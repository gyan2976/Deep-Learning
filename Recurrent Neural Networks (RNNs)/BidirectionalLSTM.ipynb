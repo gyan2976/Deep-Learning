{
  "nbformat": 4,
  "nbformat_minor": 0,
  "metadata": {
    "colab": {
      "provenance": [],
      "gpuType": "T4"
    },
    "kernelspec": {
      "name": "python3",
      "display_name": "Python 3"
    },
    "language_info": {
      "name": "python"
    },
    "accelerator": "GPU"
  },
  "cells": [
    {
      "cell_type": "markdown",
      "source": [
        "**Import Libraries**"
      ],
      "metadata": {
        "id": "VIr6QonHcfun"
      }
    },
    {
      "cell_type": "code",
      "source": [
        "import torch\n",
        "import torch.nn as nn\n",
        "import torch.optim as optim\n",
        "import torchvision\n",
        "import torchvision.transforms as transforms\n",
        "import matplotlib.pyplot as plt"
      ],
      "metadata": {
        "id": "aO_mEYy6oElX"
      },
      "execution_count": 1,
      "outputs": []
    },
    {
      "cell_type": "markdown",
      "source": [
        "**Code**"
      ],
      "metadata": {
        "id": "yqrAs5gMoPkB"
      }
    },
    {
      "cell_type": "code",
      "source": [
        "# Set Device\n",
        "device = torch.device(\"cuda\" if torch.cuda.is_available() else \"cpu\")"
      ],
      "metadata": {
        "id": "jDKLud7HoOie"
      },
      "execution_count": 2,
      "outputs": []
    },
    {
      "cell_type": "code",
      "source": [
        "class BiLSTMModel(nn.Module):\n",
        "    def __init__(self, input_size, hidden_size, output_size, num_layers, dropout):\n",
        "        super(BiLSTMModel, self).__init__()\n",
        "        self.lstm = nn.LSTM(\n",
        "            input_size=input_size,\n",
        "            hidden_size=hidden_size,\n",
        "            num_layers=num_layers,\n",
        "            batch_first=True,\n",
        "            dropout=dropout,\n",
        "            bidirectional=True  # Enables bidirectional functionality\n",
        "        )\n",
        "        self.fc = nn.Linear(hidden_size * 2, output_size)  # Multiply hidden_size by 2 for BiLSTM\n",
        "\n",
        "    def forward(self, x):\n",
        "        # LSTM outputs\n",
        "        out, _ = self.lstm(x)  # out -> (batch_size, seq_length, hidden_size * 2)\n",
        "        # Get output from the last time step\n",
        "        out = self.fc(out[:, -1, :])  # out -> (batch_size, output_size)\n",
        "        return out"
      ],
      "metadata": {
        "id": "ceO0bqJinBIc"
      },
      "execution_count": 3,
      "outputs": []
    },
    {
      "cell_type": "code",
      "source": [
        "# Hyperparameters\n",
        "input_size = 28          # Number of features (e.g., pixels per row in an image)\n",
        "hidden_size = 128        # Number of LSTM hidden units\n",
        "output_size = 10         # Number of output classes\n",
        "num_layers = 2           # Number of LSTM layers\n",
        "dropout = 0.3            # Dropout rate\n",
        "learning_rate = 0.001\n",
        "sequence_length = 28     # Sequence length (e.g., rows of pixels in an image)\n",
        "batch_size = 64          # Batch size\n",
        "num_epochs = 10          # Number of epochs"
      ],
      "metadata": {
        "id": "Upo3m5FsoWGy"
      },
      "execution_count": 4,
      "outputs": []
    },
    {
      "cell_type": "code",
      "source": [
        "# Load MNIST dataset\n",
        "transform = transforms.Compose([transforms.ToTensor()])\n",
        "train_dataset = torchvision.datasets.MNIST(root='./data', train=True, transform=transform, download=True)\n",
        "test_dataset = torchvision.datasets.MNIST(root='./data', train=False, transform=transform, download=True)\n",
        "\n",
        "train_loader = torch.utils.data.DataLoader(dataset=train_dataset, batch_size=batch_size, shuffle=True)\n",
        "test_loader = torch.utils.data.DataLoader(dataset=test_dataset, batch_size=batch_size, shuffle=False)\n",
        "\n",
        "# Model, Loss, Optimizer\n",
        "model = BiLSTMModel(input_size, hidden_size, output_size, num_layers, dropout).to(device)\n",
        "criterion = nn.CrossEntropyLoss()\n",
        "optimizer = torch.optim.Adam(model.parameters(), lr=learning_rate)"
      ],
      "metadata": {
        "id": "Bd7qbCIqoWzu"
      },
      "execution_count": 5,
      "outputs": []
    },
    {
      "cell_type": "code",
      "source": [
        "# Training Loop\n",
        "for epoch in range(num_epochs):\n",
        "    correct = 0\n",
        "    total = 0\n",
        "    epoch_loss = 0\n",
        "    for i, (images, labels) in enumerate(train_loader):\n",
        "        images = images.view(-1, sequence_length, input_size).to(device)  # Reshape images for LSTM\n",
        "        labels = labels.to(device)\n",
        "\n",
        "        # Forward pass\n",
        "        outputs = model(images)\n",
        "        loss = criterion(outputs, labels)\n",
        "\n",
        "        # Calculate predictions and accuracy\n",
        "        _, predicted = torch.max(outputs, 1)\n",
        "        total += labels.size(0)\n",
        "        correct += (predicted == labels).sum().item()\n",
        "\n",
        "        # Backward pass and optimization\n",
        "        optimizer.zero_grad()\n",
        "        loss.backward()\n",
        "        optimizer.step()\n",
        "\n",
        "        epoch_loss += loss.item()\n",
        "\n",
        "    epoch_accuracy = 100 * correct / total\n",
        "    print(f\"Epoch [{epoch + 1}/{num_epochs}], Loss: {epoch_loss / len(train_loader):.4f}, Accuracy: {epoch_accuracy:.2f}%\")"
      ],
      "metadata": {
        "colab": {
          "base_uri": "https://localhost:8080/"
        },
        "id": "Hlsvuj85nBOH",
        "outputId": "f1b649f6-4018-4bb0-c63a-57db1a514b90"
      },
      "execution_count": 6,
      "outputs": [
        {
          "output_type": "stream",
          "name": "stdout",
          "text": [
            "Epoch [1/10], Loss: 0.4080, Accuracy: 86.57%\n",
            "Epoch [2/10], Loss: 0.1103, Accuracy: 96.72%\n",
            "Epoch [3/10], Loss: 0.0753, Accuracy: 97.74%\n",
            "Epoch [4/10], Loss: 0.0592, Accuracy: 98.21%\n",
            "Epoch [5/10], Loss: 0.0484, Accuracy: 98.51%\n",
            "Epoch [6/10], Loss: 0.0414, Accuracy: 98.72%\n",
            "Epoch [7/10], Loss: 0.0379, Accuracy: 98.87%\n",
            "Epoch [8/10], Loss: 0.0338, Accuracy: 98.97%\n",
            "Epoch [9/10], Loss: 0.0282, Accuracy: 99.13%\n",
            "Epoch [10/10], Loss: 0.0266, Accuracy: 99.19%\n"
          ]
        }
      ]
    },
    {
      "cell_type": "code",
      "source": [
        "# Testing function\n",
        "def test_model(model, test_loader, device):\n",
        "    model.eval()  # Set model to evaluation mode\n",
        "    correct = 0\n",
        "    total = 0\n",
        "    all_labels = []       # To store all true labels\n",
        "    all_predictions = []  # To store all predictions\n",
        "\n",
        "    with torch.no_grad():  # Disable gradient calculations for testing\n",
        "        for images, labels in test_loader:\n",
        "            images = images.view(-1, sequence_length, input_size).to(device)\n",
        "            labels = labels.to(device)\n",
        "\n",
        "            outputs = model(images)\n",
        "            _, predicted = torch.max(outputs, 1)  # Get predictions\n",
        "\n",
        "            # Collect all labels and predictions\n",
        "            all_labels.extend(labels.cpu().numpy())\n",
        "            all_predictions.extend(predicted.cpu().numpy())\n",
        "\n",
        "            # Compute accuracy\n",
        "            total += labels.size(0)\n",
        "            correct += (predicted == labels).sum().item()\n",
        "\n",
        "    accuracy = 100 * correct / total\n",
        "    print(f\"Test Accuracy: {accuracy:.2f}%\")\n",
        "\n",
        "    return all_labels, all_predictions\n",
        "\n",
        "# Call test function and get all labels and predictions\n",
        "all_labels, all_predictions = test_model(model, test_loader, device)\n",
        "\n",
        "# Print sample labels and predictions\n",
        "print(\"Sample True Labels:\", all_labels[:10])\n",
        "print(\"Sample Predictions:\", all_predictions[:10])"
      ],
      "metadata": {
        "colab": {
          "base_uri": "https://localhost:8080/"
        },
        "id": "uRVUGSgbnBQ8",
        "outputId": "bafa5e8e-5ba2-4928-c7fe-c15f09dc0a61"
      },
      "execution_count": 7,
      "outputs": [
        {
          "output_type": "stream",
          "name": "stdout",
          "text": [
            "Test Accuracy: 98.92%\n",
            "Sample True Labels: [7, 2, 1, 0, 4, 1, 4, 9, 5, 9]\n",
            "Sample Predictions: [7, 2, 1, 0, 4, 1, 4, 9, 5, 9]\n"
          ]
        }
      ]
    },
    {
      "cell_type": "code",
      "source": [
        "# Visualizing a Sample\n",
        "import matplotlib.pyplot as plt\n",
        "\n",
        "sample_image, sample_label = test_dataset[3]  # Pick a sample from the test dataset\n",
        "sample_image = sample_image.unsqueeze(0).to(device)  # Add batch dimension\n",
        "\n",
        "output = model(sample_image.view(-1, sequence_length, input_size))\n",
        "_, predicted = torch.max(output, 1)\n",
        "\n",
        "plt.imshow(sample_image.cpu().squeeze(), cmap='gray')\n",
        "plt.title(f\"True: {sample_label}, Predicted: {predicted.item()}\")\n",
        "plt.show()"
      ],
      "metadata": {
        "colab": {
          "base_uri": "https://localhost:8080/",
          "height": 452
        },
        "id": "1nE2-NH5nBTz",
        "outputId": "c4217dfb-576d-4b1f-d14e-4c164151e5ef"
      },
      "execution_count": 8,
      "outputs": [
        {
          "output_type": "display_data",
          "data": {
            "text/plain": [
              "<Figure size 640x480 with 1 Axes>"
            ],
            "image/png": "[encoded data removed]"
          },
          "metadata": {}
        }
      ]
    }
  ]
}
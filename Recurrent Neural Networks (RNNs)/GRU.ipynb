{
  "nbformat": 4,
  "nbformat_minor": 0,
  "metadata": {
    "colab": {
      "provenance": [],
      "gpuType": "T4"
    },
    "kernelspec": {
      "name": "python3",
      "display_name": "Python 3"
    },
    "language_info": {
      "name": "python"
    },
    "accelerator": "GPU"
  },
  "cells": [
    {
      "cell_type": "markdown",
      "source": [
        "**Import Libraries**"
      ],
      "metadata": {
        "id": "VIr6QonHcfun"
      }
    },
    {
      "cell_type": "code",
      "source": [
        "import torch\n",
        "import torch.nn as nn\n",
        "import torch.optim as optim\n",
        "import torchvision\n",
        "import torchvision.transforms as transforms\n",
        "from torch.utils.data import DataLoader\n",
        "import matplotlib.pyplot as plt"
      ],
      "metadata": {
        "id": "aO_mEYy6oElX"
      },
      "execution_count": 1,
      "outputs": []
    },
    {
      "cell_type": "markdown",
      "source": [
        "**Code**"
      ],
      "metadata": {
        "id": "yqrAs5gMoPkB"
      }
    },
    {
      "cell_type": "code",
      "source": [
        "# Set Device\n",
        "device = torch.device(\"cuda\" if torch.cuda.is_available() else \"cpu\")"
      ],
      "metadata": {
        "id": "jDKLud7HoOie"
      },
      "execution_count": 2,
      "outputs": []
    },
    {
      "cell_type": "code",
      "source": [
        "# GRU Model\n",
        "class GRUModel(nn.Module):\n",
        "    def __init__(self, input_size, hidden_size, output_size, num_layers, dropout):\n",
        "        super(GRUModel, self).__init__()\n",
        "        self.gru = nn.GRU(input_size, hidden_size, num_layers, batch_first=True, dropout=dropout)\n",
        "        self.fc = nn.Linear(hidden_size, output_size)\n",
        "\n",
        "    def forward(self, x):\n",
        "        out, _ = self.gru(x)  # GRU forward pass\n",
        "        out = self.fc(out[:, -1, :])  # Output from the last time step\n",
        "        return out"
      ],
      "metadata": {
        "id": "BWM6GfIer_sk"
      },
      "execution_count": 3,
      "outputs": []
    },
    {
      "cell_type": "code",
      "source": [
        "# Hyperparameters\n",
        "input_size = 28       # Number of features in each sequence step (MNIST row size)\n",
        "sequence_length = 28  # Number of time steps (MNIST column size)\n",
        "hidden_size = 128     # Hidden state size\n",
        "num_layers = 2        # Number of GRU layers\n",
        "num_classes = 10      # Number of output classes (digits 0-9)\n",
        "batch_size = 64       # Batch size for training\n",
        "learning_rate = 0.001 # Learning rate for optimizer\n",
        "num_epochs = 5        # Number of epochs to train"
      ],
      "metadata": {
        "id": "iJHAEkclr_vg"
      },
      "execution_count": 4,
      "outputs": []
    },
    {
      "cell_type": "code",
      "source": [
        "# Data preparation\n",
        "transform = transforms.Compose([transforms.ToTensor(), transforms.Normalize((0.5,), (0.5,))])\n",
        "train_dataset = torchvision.datasets.MNIST(root='./data', train=True, download=True, transform=transform)\n",
        "test_dataset = torchvision.datasets.MNIST(root='./data', train=False, download=True, transform=transform)\n",
        "\n",
        "train_loader = DataLoader(train_dataset, batch_size=batch_size, shuffle=True)\n",
        "test_loader = DataLoader(test_dataset, batch_size=batch_size, shuffle=False)\n",
        "\n",
        "# Model, Loss Function, Optimizer\n",
        "model = GRUModel(input_size=input_size, hidden_size=hidden_size, output_size=num_classes, num_layers=num_layers, dropout=0.3).to(device)\n",
        "criterion = nn.CrossEntropyLoss()\n",
        "optimizer = optim.Adam(model.parameters(), lr=learning_rate)"
      ],
      "metadata": {
        "id": "loYw5NaCr_yK"
      },
      "execution_count": 5,
      "outputs": []
    },
    {
      "cell_type": "code",
      "source": [
        "# Training\n",
        "def train_model(model, train_loader, criterion, optimizer, num_epochs, device):\n",
        "    for epoch in range(num_epochs):\n",
        "        model.train()\n",
        "        running_loss = 0.0\n",
        "        correct = 0\n",
        "        total = 0\n",
        "\n",
        "        for images, labels in train_loader:\n",
        "            images = images.view(-1, sequence_length, input_size).to(device)  # Reshape images\n",
        "            labels = labels.to(device)\n",
        "\n",
        "            optimizer.zero_grad()  # Zero gradients\n",
        "            outputs = model(images)  # Forward pass\n",
        "            loss = criterion(outputs, labels)  # Compute loss\n",
        "            loss.backward()  # Backward pass\n",
        "            optimizer.step()  # Optimization step\n",
        "\n",
        "            # Calculate accuracy\n",
        "            _, predicted = torch.max(outputs, 1)\n",
        "            total += labels.size(0)\n",
        "            correct += (predicted == labels).sum().item()\n",
        "            running_loss += loss.item()\n",
        "\n",
        "        epoch_loss = running_loss / len(train_loader)\n",
        "        accuracy = (correct / total) * 100\n",
        "        print(f\"Epoch [{epoch+1}/{num_epochs}], Loss: {epoch_loss:.2f}, Accuracy: {accuracy:.2f}%\")\n",
        "\n",
        "# Train the model\n",
        "train_model(model, train_loader, criterion, optimizer, num_epochs, device)"
      ],
      "metadata": {
        "colab": {
          "base_uri": "https://localhost:8080/"
        },
        "id": "dUbX2ZFUr_1M",
        "outputId": "b806100d-d911-4d71-b395-1f11a7261ce9"
      },
      "execution_count": 6,
      "outputs": [
        {
          "output_type": "stream",
          "name": "stdout",
          "text": [
            "Epoch [1/5], Loss: 0.36, Accuracy: 88.08%\n",
            "Epoch [2/5], Loss: 0.09, Accuracy: 97.36%\n",
            "Epoch [3/5], Loss: 0.06, Accuracy: 98.23%\n",
            "Epoch [4/5], Loss: 0.05, Accuracy: 98.62%\n",
            "Epoch [5/5], Loss: 0.04, Accuracy: 98.87%\n"
          ]
        }
      ]
    },
    {
      "cell_type": "code",
      "source": [
        "# Testing function\n",
        "def test_model(model, test_loader, device):\n",
        "    model.eval()\n",
        "    correct = 0\n",
        "    total = 0\n",
        "    all_labels = []\n",
        "    all_predictions = []\n",
        "\n",
        "    with torch.no_grad():\n",
        "        for images, labels in test_loader:\n",
        "            images = images.view(-1, sequence_length, input_size).to(device)\n",
        "            labels = labels.to(device)\n",
        "\n",
        "            outputs = model(images)\n",
        "            _, predicted = torch.max(outputs, 1)\n",
        "            total += labels.size(0)\n",
        "            correct += (predicted == labels).sum().item()\n",
        "\n",
        "            all_labels.extend(labels.cpu().numpy())\n",
        "            all_predictions.extend(predicted.cpu().numpy())\n",
        "\n",
        "    accuracy = (correct / total) * 100\n",
        "    print(f\"Test Accuracy: {accuracy:.2f}%\")\n",
        "    return all_labels, all_predictions\n",
        "\n",
        "# Test the model\n",
        "all_labels, all_predictions = test_model(model, test_loader, device)"
      ],
      "metadata": {
        "colab": {
          "base_uri": "https://localhost:8080/"
        },
        "id": "dKJVUDjlr__k",
        "outputId": "47e583dd-b283-430b-be9a-bfefc684e7d4"
      },
      "execution_count": 7,
      "outputs": [
        {
          "output_type": "stream",
          "name": "stdout",
          "text": [
            "Test Accuracy: 98.73%\n"
          ]
        }
      ]
    },
    {
      "cell_type": "code",
      "source": [
        "# Print sample labels and predictions\n",
        "print(\"Sample True Labels:\", all_labels[:10])\n",
        "print(\"Sample Predictions:\", all_predictions[:10])"
      ],
      "metadata": {
        "colab": {
          "base_uri": "https://localhost:8080/"
        },
        "id": "q19aAwJQsaD4",
        "outputId": "5500e9ab-8aba-4376-9eb3-823b80c3b8ef"
      },
      "execution_count": 8,
      "outputs": [
        {
          "output_type": "stream",
          "name": "stdout",
          "text": [
            "Sample True Labels: [7, 2, 1, 0, 4, 1, 4, 9, 5, 9]\n",
            "Sample Predictions: [7, 2, 1, 0, 4, 1, 4, 9, 8, 9]\n"
          ]
        }
      ]
    },
    {
      "cell_type": "code",
      "source": [
        "# Save the model\n",
        "torch.save(model.state_dict(), 'mnist_gru_model.pth')\n",
        "print(\"Model saved successfully.\")"
      ],
      "metadata": {
        "colab": {
          "base_uri": "https://localhost:8080/"
        },
        "id": "A2hdGqutsABF",
        "outputId": "be366903-01a3-4a2d-d9dd-b9b9a001198f"
      },
      "execution_count": 9,
      "outputs": [
        {
          "output_type": "stream",
          "name": "stdout",
          "text": [
            "Model saved successfully.\n"
          ]
        }
      ]
    },
    {
      "cell_type": "code",
      "source": [
        "# Reload the model for testing\n",
        "loaded_gru_model = GRUModel(input_size=input_size, hidden_size=hidden_size, output_size=num_classes, num_layers=num_layers, dropout=0.3).to(device)\n",
        "loaded_gru_model.load_state_dict(torch.load('mnist_gru_model.pth'))\n",
        "loaded_gru_model.eval()\n",
        "print(\"Model loaded successfully.\")"
      ],
      "metadata": {
        "colab": {
          "base_uri": "https://localhost:8080/"
        },
        "id": "TXU9FocBsQYf",
        "outputId": "9d1eea6a-f403-4ed8-baa0-cab772554a51"
      },
      "execution_count": 10,
      "outputs": [
        {
          "output_type": "stream",
          "name": "stdout",
          "text": [
            "Model loaded successfully.\n"
          ]
        },
        {
          "output_type": "stream",
          "name": "stderr",
          "text": [
            "<ipython-input-10-e7c5cb71e546>:3: FutureWarning: You are using `torch.load` with `weights_only=False` (the current default value), which uses the default pickle module implicitly. It is possible to construct malicious pickle data which will execute arbitrary code during unpickling (See https://github.com/pytorch/pytorch/blob/main/SECURITY.md#untrusted-models for more details). In a future release, the default value for `weights_only` will be flipped to `True`. This limits the functions that could be executed during unpickling. Arbitrary objects will no longer be allowed to be loaded via this mode unless they are explicitly allowlisted by the user via `torch.serialization.add_safe_globals`. We recommend you start setting `weights_only=True` for any use case where you don't have full control of the loaded file. Please open an issue on GitHub for any issues related to this experimental feature.\n",
            "  loaded_gru_model.load_state_dict(torch.load('mnist_gru_model.pth'))\n"
          ]
        }
      ]
    },
    {
      "cell_type": "code",
      "source": [
        "# Visualize a sample image and its prediction\n",
        "def visualize_sample(model, dataset, idx):\n",
        "    model.eval()\n",
        "    sample_image, sample_label = dataset[idx]\n",
        "    sample_image = sample_image.unsqueeze(0).to(device)\n",
        "    output = model(sample_image.view(-1, sequence_length, input_size))\n",
        "    _, predicted_label = torch.max(output, 1)\n",
        "\n",
        "    plt.imshow(sample_image.cpu().squeeze(), cmap='gray')\n",
        "    plt.title(f\"True: {sample_label}, Predicted: {predicted_label.item()}\")\n",
        "    plt.show()\n",
        "\n",
        "# Visualize a test sample\n",
        "visualize_sample(loaded_gru_model, test_dataset, idx=5)  # Change idx for different samples"
      ],
      "metadata": {
        "colab": {
          "base_uri": "https://localhost:8080/",
          "height": 452
        },
        "id": "SkGyQ-HwsQbT",
        "outputId": "39cb3f78-297a-474b-cb65-97c3639d508f"
      },
      "execution_count": 11,
      "outputs": [
        {
          "output_type": "display_data",
          "data": {
            "text/plain": [
              "<Figure size 640x480 with 1 Axes>"
            ],
            "image/png": "[encoded data removed]"
          },
          "metadata": {}
        }
      ]
    }
  ]
}
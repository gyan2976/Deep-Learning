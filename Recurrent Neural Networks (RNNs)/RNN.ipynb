{
  "nbformat": 4,
  "nbformat_minor": 0,
  "metadata": {
    "colab": {
      "provenance": [],
      "gpuType": "T4"
    },
    "kernelspec": {
      "name": "python3",
      "display_name": "Python 3"
    },
    "language_info": {
      "name": "python"
    },
    "accelerator": "GPU"
  },
  "cells": [
    {
      "cell_type": "markdown",
      "source": [
        "**Import Libraries**"
      ],
      "metadata": {
        "id": "VIr6QonHcfun"
      }
    },
    {
      "cell_type": "code",
      "source": [
        "import torch\n",
        "import torch.nn as nn\n",
        "import torch.optim as optim\n",
        "import torchvision\n",
        "import torchvision.transforms as transforms\n",
        "from torch.utils.data import DataLoader\n",
        "import matplotlib.pyplot as plt"
      ],
      "metadata": {
        "id": "ruxBKzgHcc2u"
      },
      "execution_count": 1,
      "outputs": []
    },
    {
      "cell_type": "markdown",
      "source": [
        "**Code**"
      ],
      "metadata": {
        "id": "A6BjE3RxclQT"
      }
    },
    {
      "cell_type": "code",
      "source": [
        "# Set Device\n",
        "device = torch.device(\"cuda\" if torch.cuda.is_available() else \"cpu\")"
      ],
      "metadata": {
        "id": "jlI-k7MYcd4W"
      },
      "execution_count": 2,
      "outputs": []
    },
    {
      "cell_type": "code",
      "source": [
        "class RNNModel(nn.Module):\n",
        "    def __init__(self, input_size, hidden_size, output_size, num_layers, dropout):\n",
        "        super(RNNModel, self).__init__()\n",
        "        self.rnn = nn.RNN(input_size, hidden_size, num_layers, batch_first=True, dropout=dropout)\n",
        "        self.fc = nn.Linear(hidden_size, output_size)\n",
        "\n",
        "    def forward(self, x):\n",
        "        out, _ = self.rnn(x)  # RNN forward pass\n",
        "        out = self.fc(out[:, -1, :])  # Output from the last time step\n",
        "        return out"
      ],
      "metadata": {
        "id": "XfPccEXmcd7f"
      },
      "execution_count": 3,
      "outputs": []
    },
    {
      "cell_type": "code",
      "source": [
        "# Hyperparameters\n",
        "input_size = 28       # Number of features in each sequence step (MNIST row size)\n",
        "sequence_length = 28  # Number of time steps (MNIST column size)\n",
        "hidden_size = 128     # Hidden state size\n",
        "num_layers = 2        # Number of RNN layers\n",
        "num_classes = 10      # Number of output classes (digits 0-9)\n",
        "batch_size = 64       # Batch size for training\n",
        "learning_rate = 0.001 # Learning rate for optimizer\n",
        "num_epochs = 5        # Number of epochs to train\n",
        "dropout_rate = 0.3  # Set the dropout rate as needed"
      ],
      "metadata": {
        "id": "KTNy64qtcd-c"
      },
      "execution_count": 4,
      "outputs": []
    },
    {
      "cell_type": "code",
      "source": [
        "# Data preparation\n",
        "transform = transforms.Compose([transforms.ToTensor(), transforms.Normalize((0.5,), (0.5,))])\n",
        "train_dataset = torchvision.datasets.MNIST(root='./data', train=True, download=True, transform=transform)\n",
        "test_dataset = torchvision.datasets.MNIST(root='./data', train=False, download=True, transform=transform)\n",
        "\n",
        "train_loader = DataLoader(train_dataset, batch_size=batch_size, shuffle=True)\n",
        "test_loader = DataLoader(test_dataset, batch_size=batch_size, shuffle=False)\n",
        "\n",
        "# Model, Loss Function, Optimizer\n",
        "model = RNNModel(input_size=input_size, hidden_size=hidden_size, output_size=num_classes, num_layers=num_layers, dropout=dropout_rate).to(device)\n",
        "criterion = nn.CrossEntropyLoss()\n",
        "optimizer = optim.Adam(model.parameters(), lr=learning_rate)"
      ],
      "metadata": {
        "id": "TR4LrmmIceBU"
      },
      "execution_count": 5,
      "outputs": []
    },
    {
      "cell_type": "code",
      "source": [
        "# Training Function\n",
        "def train_model(model, train_loader, criterion, optimizer, num_epochs, device):\n",
        "    for epoch in range(num_epochs):\n",
        "        model.train()\n",
        "        running_loss = 0.0\n",
        "        correct = 0\n",
        "        total = 0\n",
        "\n",
        "        for images, labels in train_loader:\n",
        "            images = images.view(-1, sequence_length, input_size).to(device)  # Reshape images\n",
        "            labels = labels.to(device)\n",
        "\n",
        "            optimizer.zero_grad()  # Zero gradients\n",
        "            outputs = model(images)  # Forward pass\n",
        "            loss = criterion(outputs, labels)  # Compute loss\n",
        "            loss.backward()  # Backward pass\n",
        "            optimizer.step()  # Optimization step\n",
        "\n",
        "            # Calculate accuracy\n",
        "            _, predicted = torch.max(outputs, 1)\n",
        "            total += labels.size(0)\n",
        "            correct += (predicted == labels).sum().item()\n",
        "            running_loss += loss.item()\n",
        "\n",
        "        epoch_loss = running_loss / len(train_loader)\n",
        "        accuracy = (correct / total) * 100\n",
        "        print(f\"Epoch [{epoch+1}/{num_epochs}], Loss: {epoch_loss:.2f}, Accuracy: {accuracy:.2f}%\")\n",
        "\n",
        "# Train the model\n",
        "train_model(model, train_loader, criterion, optimizer, num_epochs, device)"
      ],
      "metadata": {
        "colab": {
          "base_uri": "https://localhost:8080/"
        },
        "id": "CzX0MAtjcynu",
        "outputId": "ab77d2d2-c7b4-4d3a-f9c2-dacb6cebb766"
      },
      "execution_count": 6,
      "outputs": [
        {
          "output_type": "stream",
          "name": "stdout",
          "text": [
            "Epoch [1/5], Loss: 0.71, Accuracy: 76.51%\n",
            "Epoch [2/5], Loss: 0.29, Accuracy: 91.99%\n",
            "Epoch [3/5], Loss: 0.22, Accuracy: 93.79%\n",
            "Epoch [4/5], Loss: 0.18, Accuracy: 94.86%\n",
            "Epoch [5/5], Loss: 0.17, Accuracy: 95.25%\n"
          ]
        }
      ]
    },
    {
      "cell_type": "code",
      "source": [
        "# Testing Function\n",
        "def test_model(model, test_loader, device):\n",
        "    model.eval()\n",
        "    correct = 0\n",
        "    total = 0\n",
        "    all_labels = []\n",
        "    all_predictions = []\n",
        "\n",
        "    with torch.no_grad():\n",
        "        for images, labels in test_loader:\n",
        "            images = images.view(-1, sequence_length, input_size).to(device)\n",
        "            labels = labels.to(device)\n",
        "\n",
        "            outputs = model(images)\n",
        "\n",
        "            _, predicted = torch.max(outputs, 1)\n",
        "            total += labels.size(0)\n",
        "            correct += (predicted == labels).sum().item()\n",
        "\n",
        "            all_labels.extend(labels.cpu().numpy())\n",
        "            all_predictions.extend(predicted.cpu().numpy())\n",
        "\n",
        "    accuracy = (correct / total) * 100\n",
        "    print(f\"Test Accuracy: {accuracy:.2f}%\")\n",
        "    return all_labels, all_predictions\n",
        "\n",
        "# Test the model\n",
        "all_labels, all_predictions = test_model(model, test_loader, device)"
      ],
      "metadata": {
        "colab": {
          "base_uri": "https://localhost:8080/"
        },
        "id": "Hlsr8GEocyqm",
        "outputId": "37e0b6d5-c1d9-4da9-aede-2b3100de429b"
      },
      "execution_count": 7,
      "outputs": [
        {
          "output_type": "stream",
          "name": "stdout",
          "text": [
            "Test Accuracy: 96.05%\n"
          ]
        }
      ]
    },
    {
      "cell_type": "code",
      "source": [
        "# Save the model\n",
        "torch.save(model.state_dict(), 'mnist_rnn_model.pth')\n",
        "print(\"Model saved successfully.\")"
      ],
      "metadata": {
        "colab": {
          "base_uri": "https://localhost:8080/"
        },
        "id": "tnibhe_VcytB",
        "outputId": "0e2d05ea-ae99-4aa3-d07e-26d7122cb376"
      },
      "execution_count": 8,
      "outputs": [
        {
          "output_type": "stream",
          "name": "stdout",
          "text": [
            "Model saved successfully.\n"
          ]
        }
      ]
    },
    {
      "cell_type": "code",
      "source": [
        "# Visualize test dataset labels and predictions\n",
        "print(\"Sample Test Labels:\", all_labels[:10])\n",
        "print(\"Sample Predictions:\", all_predictions[:10])"
      ],
      "metadata": {
        "colab": {
          "base_uri": "https://localhost:8080/"
        },
        "id": "tQcsvcRqa8Yh",
        "outputId": "f279b98f-1a1e-46cd-f714-6ecbf0eaba78"
      },
      "execution_count": 9,
      "outputs": [
        {
          "output_type": "stream",
          "name": "stdout",
          "text": [
            "Sample Test Labels: [7, 2, 1, 0, 4, 1, 4, 9, 5, 9]\n",
            "Sample Predictions: [7, 2, 1, 0, 4, 1, 4, 9, 6, 9]\n"
          ]
        }
      ]
    },
    {
      "cell_type": "code",
      "source": [
        "# Plot a sample image and prediction\n",
        "sample_image, sample_label = test_dataset[3]  # Testing 3rd sample data\n",
        "sample_image = sample_image.unsqueeze(0).to(device)\n",
        "sample_image_reshaped = sample_image.view(-1, sequence_length, input_size)\n",
        "model.eval()\n",
        "with torch.no_grad():\n",
        "    output = model(sample_image_reshaped)\n",
        "\n",
        "_, predicted = torch.max(output, 1)\n",
        "predicted_label = predicted.item()\n",
        "\n",
        "plt.imshow(sample_image.cpu().squeeze(), cmap='gray')\n",
        "plt.title(f\"True: {sample_label}, Predicted: {predicted_label}\")\n",
        "plt.axis('off')  # Turn off axis for cleaner visualization\n",
        "plt.show()\n"
      ],
      "metadata": {
        "colab": {
          "base_uri": "https://localhost:8080/",
          "height": 428
        },
        "id": "His5PlJza9A6",
        "outputId": "7660f16e-0aac-411d-fad4-945567c348c7"
      },
      "execution_count": 10,
      "outputs": [
        {
          "output_type": "display_data",
          "data": {
            "text/plain": [
              "<Figure size 640x480 with 1 Axes>"
            ],
            "image/png": "[encoded data removed]"
          },
          "metadata": {}
        }
      ]
    },
    {
      "cell_type": "code",
      "source": [
        "# Plot a sample image and prediction\n",
        "sample_image, sample_label = test_dataset[7]  # Testing 9th sample data\n",
        "sample_image = sample_image.unsqueeze(0).to(device)\n",
        "sample_image_reshaped = sample_image.view(-1, sequence_length, input_size)\n",
        "model.eval()\n",
        "with torch.no_grad():\n",
        "    output = model(sample_image_reshaped)\n",
        "\n",
        "_, predicted = torch.max(output, 1)\n",
        "predicted_label = predicted.item()\n",
        "\n",
        "plt.imshow(sample_image.cpu().squeeze(), cmap='gray')\n",
        "plt.title(f\"True: {sample_label}, Predicted: {predicted_label}\")\n",
        "plt.axis('off')  # Turn off axis for cleaner visualization\n",
        "plt.show()"
      ],
      "metadata": {
        "colab": {
          "base_uri": "https://localhost:8080/",
          "height": 428
        },
        "id": "0n3vMKrLburN",
        "outputId": "d0066826-4246-4034-fde9-40bbffee16ba"
      },
      "execution_count": 11,
      "outputs": [
        {
          "output_type": "display_data",
          "data": {
            "text/plain": [
              "<Figure size 640x480 with 1 Axes>"
            ],
            "image/png": "[encoded data removed]"
          },
          "metadata": {}
        }
      ]
    },
    {
      "cell_type": "markdown",
      "source": [
        "**Reload the model and Test**"
      ],
      "metadata": {
        "id": "KJeE8cYIdrVG"
      }
    },
    {
      "cell_type": "code",
      "source": [
        "# Reload the RNN model architecture\n",
        "loaded_rnn_model = RNNModel(\n",
        "    input_size=input_size,\n",
        "    hidden_size=hidden_size,\n",
        "    output_size=num_classes,\n",
        "    num_layers=num_layers,\n",
        "    dropout=0.3\n",
        ").to(device)\n",
        "\n",
        "# Load the trained weights into the model\n",
        "loaded_rnn_model.load_state_dict(torch.load('mnist_rnn_model.pth', map_location=device))\n",
        "\n",
        "# Set the model to evaluation mode\n",
        "loaded_rnn_model.eval()"
      ],
      "metadata": {
        "colab": {
          "base_uri": "https://localhost:8080/"
        },
        "id": "fC7d11PcdJQf",
        "outputId": "d2c54e35-f210-4423-aced-11edae5643db"
      },
      "execution_count": 13,
      "outputs": [
        {
          "output_type": "stream",
          "name": "stderr",
          "text": [
            "<ipython-input-13-10d3002a28d2>:11: FutureWarning: You are using `torch.load` with `weights_only=False` (the current default value), which uses the default pickle module implicitly. It is possible to construct malicious pickle data which will execute arbitrary code during unpickling (See https://github.com/pytorch/pytorch/blob/main/SECURITY.md#untrusted-models for more details). In a future release, the default value for `weights_only` will be flipped to `True`. This limits the functions that could be executed during unpickling. Arbitrary objects will no longer be allowed to be loaded via this mode unless they are explicitly allowlisted by the user via `torch.serialization.add_safe_globals`. We recommend you start setting `weights_only=True` for any use case where you don't have full control of the loaded file. Please open an issue on GitHub for any issues related to this experimental feature.\n",
            "  loaded_rnn_model.load_state_dict(torch.load('mnist_rnn_model.pth', map_location=device))\n"
          ]
        },
        {
          "output_type": "execute_result",
          "data": {
            "text/plain": [
              "RNNModel(\n",
              "  (rnn): RNN(28, 128, num_layers=2, batch_first=True, dropout=0.3)\n",
              "  (fc): Linear(in_features=128, out_features=10, bias=True)\n",
              ")"
            ]
          },
          "metadata": {},
          "execution_count": 13
        }
      ]
    },
    {
      "cell_type": "code",
      "source": [
        "# Plot a sample image and prediction\n",
        "sample_image, sample_label = test_dataset[0]  # Testing 0th sample data\n",
        "sample_image = sample_image.unsqueeze(0).to(device)\n",
        "sample_image_reshaped = sample_image.view(-1, sequence_length, input_size)\n",
        "\n",
        "with torch.no_grad():\n",
        "    output = loaded_rnn_model(sample_image_reshaped)\n",
        "\n",
        "_, predicted = torch.max(output, 1)\n",
        "predicted_label = predicted.item()\n",
        "\n",
        "plt.imshow(sample_image.cpu().squeeze(), cmap='gray')\n",
        "plt.title(f\"True: {sample_label}, Predicted: {predicted_label}\")\n",
        "plt.axis('off')  # Turn off axis for cleaner visualization\n",
        "plt.show()\n"
      ],
      "metadata": {
        "colab": {
          "base_uri": "https://localhost:8080/",
          "height": 428
        },
        "id": "jAAXU2I9dJTY",
        "outputId": "9d699cd8-2905-4d8b-a44d-d5e5295ec5a1"
      },
      "execution_count": 14,
      "outputs": [
        {
          "output_type": "display_data",
          "data": {
            "text/plain": [
              "<Figure size 640x480 with 1 Axes>"
            ],
            "image/png": "[encoded data removed]"
          },
          "metadata": {}
        }
      ]
    },
    {
      "cell_type": "code",
      "source": [
        "# Plot a sample image and prediction\n",
        "sample_image, sample_label = test_dataset[3]  # Testing 3rd sample data\n",
        "sample_image = sample_image.unsqueeze(0).to(device)\n",
        "sample_image_reshaped = sample_image.view(-1, sequence_length, input_size)\n",
        "\n",
        "with torch.no_grad():\n",
        "    output = loaded_rnn_model(sample_image_reshaped)\n",
        "\n",
        "_, predicted = torch.max(output, 1)\n",
        "predicted_label = predicted.item()\n",
        "\n",
        "plt.imshow(sample_image.cpu().squeeze(), cmap='gray')\n",
        "plt.title(f\"True: {sample_label}, Predicted: {predicted_label}\")\n",
        "plt.axis('off')  # Turn off axis for cleaner visualization\n",
        "plt.show()"
      ],
      "metadata": {
        "colab": {
          "base_uri": "https://localhost:8080/",
          "height": 428
        },
        "id": "E2Qj0YKZdg8C",
        "outputId": "b7015ae9-df2e-4c5a-bcfd-0ce2bead2b7e"
      },
      "execution_count": 15,
      "outputs": [
        {
          "output_type": "display_data",
          "data": {
            "text/plain": [
              "<Figure size 640x480 with 1 Axes>"
            ],
            "image/png": "[encoded data removed]"
          },
          "metadata": {}
        }
      ]
    }
  ]
}
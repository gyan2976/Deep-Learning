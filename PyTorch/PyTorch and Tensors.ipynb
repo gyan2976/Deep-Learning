{
  "nbformat": 4,
  "nbformat_minor": 0,
  "metadata": {
    "colab": {
      "provenance": [],
      "gpuType": "T4"
    },
    "kernelspec": {
      "name": "python3",
      "display_name": "Python 3"
    },
    "language_info": {
      "name": "python"
    },
    "accelerator": "GPU"
  },
  "cells": [
    {
      "cell_type": "markdown",
      "source": [
        "**Import Libraries**"
      ],
      "metadata": {
        "id": "uG1RJOrJoxDi"
      }
    },
    {
      "cell_type": "code",
      "source": [
        "import numpy as np\n",
        "import pandas as pd\n",
        "import matplotlib.pyplot as plt\n",
        "import seaborn as sns\n",
        "import random\n",
        "from collections import Counter\n",
        "from sklearn.datasets import load_diabetes, load_iris, fetch_california_housing\n",
        "from sklearn.model_selection import train_test_split\n",
        "from sklearn.preprocessing import MinMaxScaler, StandardScaler, RobustScaler\n",
        "from sklearn.linear_model import LinearRegression, LogisticRegression\n",
        "from sklearn.tree import DecisionTreeRegressor, DecisionTreeClassifier\n",
        "from sklearn.neighbors import KNeighborsClassifier, KNeighborsRegressor\n",
        "from sklearn.metrics import mean_squared_error, mean_absolute_error, r2_score\n",
        "from sklearn.metrics import precision_score, recall_score, f1_score, explained_variance_score\n",
        "from sklearn.metrics import accuracy_score, classification_report, confusion_matrix, roc_curve, auc\n",
        "import torch"
      ],
      "metadata": {
        "id": "wF-TbVyG0rWX"
      },
      "execution_count": 1,
      "outputs": []
    },
    {
      "cell_type": "markdown",
      "source": [
        "**Code**"
      ],
      "metadata": {
        "id": "nOofeYvYAa3l"
      }
    },
    {
      "cell_type": "markdown",
      "source": [
        "**1. What is PyTorch, and what are its primary uses?**"
      ],
      "metadata": {
        "id": "JxlL34nsFg2T"
      }
    },
    {
      "cell_type": "markdown",
      "source": [
        "\n",
        "PyTorch is an open-source machine learning library developed by Facebook's AI Research lab. It's widely used for building and training neural networks due to its flexibility, dynamic computation graph, and strong GPU acceleration.\n",
        "\n",
        "**Primary Uses of PyTorch:**\n",
        "- **Deep Learning Research and Development:** PyTorch allows researchers and developers to design complex models with ease, making it popular for cutting-edge research. It supports dynamic computation graphs, which means that the graph is built on the fly as operations are performed. This flexibility is especially useful for models that require complex control flows, such as recurrent neural networks (RNNs) and natural language processing (NLP) tasks.\n",
        "\n",
        "- **Training and Inference of Neural Networks:** PyTorch provides modules (torch.nn for layers, torch.optim for optimizers, torch.autograd for gradients) that are highly optimized for defining and training deep neural networks. It’s used for computer vision, NLP, reinforcement learning, and more.\n",
        "\n",
        "- **Data Handling and Augmentation:** PyTorch has utilities like torchvision and torchtext that help load, preprocess, and augment datasets, making it simpler to handle large-scale data for various machine learning tasks.\n",
        "\n",
        "- **Industry Production and Deployment:** PyTorch offers tools for exporting models to ONNX (Open Neural Network Exchange) and integrations with PyTorch Serve and TorchScript, making it easy to deploy models into production environments.\n",
        "\n",
        "- **Distributed Training:** PyTorch also includes support for distributed computing, enabling large-scale model training across multiple GPUs or even across nodes in a distributed system."
      ],
      "metadata": {
        "id": "cgN-ATvgIjqn"
      }
    },
    {
      "cell_type": "markdown",
      "source": [
        "**2. How do you install PyTorch with GPU support?**"
      ],
      "metadata": {
        "id": "sXVBmfBpJqu0"
      }
    },
    {
      "cell_type": "code",
      "source": [
        "# # Using Pip\n",
        "# pip install torch torchvision torchaudio --index-url https://download.pytorch.org/whl/cu118\n",
        "\n",
        "# # Using Conda\n",
        "# conda install pytorch torchvision torchaudio pytorch-cuda=11.8 -c pytorch -c nvidia\n",
        "\n",
        "# import torch\n",
        "# print(torch.cuda.is_available())  # Should return True if GPU is available\n",
        "# print(torch.cuda.current_device())  # Returns the GPU ID\n",
        "# print(torch.cuda.get_device_name(0))  # Gets the name of your GPU"
      ],
      "metadata": {
        "id": "mZmS1N8ICg4n"
      },
      "execution_count": 2,
      "outputs": []
    },
    {
      "cell_type": "markdown",
      "source": [
        "**3. What is a tensor, and how is it different from a NumPy array?**"
      ],
      "metadata": {
        "id": "JY4RzIypKJuj"
      }
    },
    {
      "cell_type": "markdown",
      "source": [
        "A tensor is a multi-dimensional array used to represent data in PyTorch, similar to a NumPy array in many ways, but with additional features tailored for deep learning and machine learning tasks. Here’s a breakdown of a tensor and how it differs from a NumPy array:\n",
        "\n",
        "**What is a Tensor?**\n",
        "- In PyTorch, a tensor is an n-dimensional matrix that generalizes scalars, vectors, and matrices to higher dimensions.\n",
        "- Tensors can represent any kind of data, including scalars (0D tensors), vectors (1D tensors), matrices (2D tensors), and more (e.g., 3D, 4D, etc.).\n",
        "\n",
        "**Key Differences Between a Tensor and a NumPy Array:**\n",
        "- **GPU Support:**\n",
        "  - PyTorch tensors can be moved to a GPU, allowing for faster computations in parallel, which is essential for training large models.\n",
        "  - NumPy arrays operate only on the CPU, limiting their use for large-scale deep learning tasks.\n",
        "\n",
        "- **Automatic Differentiation:**\n",
        "  - PyTorch tensors support automatic differentiation with torch.autograd, which is essential for deep learning as it allows gradient computation during backpropagation.\n",
        "  - NumPy arrays do not support automatic differentiation directly, so additional libraries like autograd or JAX are needed to achieve this functionality.\n",
        "\n",
        "- **Performance and Optimizations:**\n",
        "  - PyTorch tensors are optimized for deep learning tasks and can leverage libraries like cuDNN and cuBLAS for faster matrix operations on GPUs.\n",
        "  - While NumPy is also highly optimized for numerical operations on the CPU, it lacks the deep-learning-focused optimizations PyTorch offers.\n",
        "\n",
        "- **Conversion:**\n",
        "  - PyTorch tensors and NumPy arrays can be converted to one another easily, allowing flexibility in data handling.\n",
        "  - torch.from_numpy() converts a NumPy array to a PyTorch tensor, while .numpy() on a tensor (when on CPU) converts it to a NumPy array.\n",
        "- **Dynamic Computation Graphs:**\n",
        "  - Tensors in PyTorch support dynamic computation graphs, meaning the graph is created as operations are performed. This allows for more flexibility in model construction, especially with models that have variable-length inputs or changing architectures.\n",
        "  - NumPy arrays do not offer this capability directly.\n",
        "\n",
        "**Similarities:**\n",
        "- Both tensors and NumPy arrays are used for storing multi-dimensional data and support similar indexing, slicing, broadcasting, and element-wise operations.\n",
        "- They also share many function names, such as .sum(), .mean(), and .reshape(), making it easy for people familiar with NumPy to work with PyTorch."
      ],
      "metadata": {
        "id": "ukrlA-sIKpLk"
      }
    },
    {
      "cell_type": "markdown",
      "source": [
        "**4. How do you create a tensor in PyTorch?**"
      ],
      "metadata": {
        "id": "v7-vsW_0LyHY"
      }
    },
    {
      "cell_type": "code",
      "source": [
        "# From a List or Array\n",
        "import torch\n",
        "data = [1, 2, 3, 4]\n",
        "print(data), print(type(data))\n",
        "\n",
        "tensor_from_list = torch.tensor(data)  # Creates a tensor from a list\n",
        "print(tensor_from_list), print(type(tensor_from_list))"
      ],
      "metadata": {
        "colab": {
          "base_uri": "https://localhost:8080/"
        },
        "id": "JrhTcleVKI2S",
        "outputId": "85399203-0b40-4878-87c2-76a537ced3e0"
      },
      "execution_count": 3,
      "outputs": [
        {
          "output_type": "stream",
          "name": "stdout",
          "text": [
            "[1, 2, 3, 4]\n",
            "<class 'list'>\n",
            "tensor([1, 2, 3, 4])\n",
            "<class 'torch.Tensor'>\n"
          ]
        },
        {
          "output_type": "execute_result",
          "data": {
            "text/plain": [
              "(None, None)"
            ]
          },
          "metadata": {},
          "execution_count": 3
        }
      ]
    },
    {
      "cell_type": "code",
      "source": [
        "# Using torch.tensor()\n",
        "tensor = torch.tensor([5.5, 3.2], dtype=torch.float32)  # Specifies data type\n",
        "print(tensor)"
      ],
      "metadata": {
        "colab": {
          "base_uri": "https://localhost:8080/"
        },
        "id": "1JNKdtOBKEoA",
        "outputId": "bcf33fee-87cb-4ef7-ded4-7d4a366dc6db"
      },
      "execution_count": 4,
      "outputs": [
        {
          "output_type": "stream",
          "name": "stdout",
          "text": [
            "tensor([5.5000, 3.2000])\n"
          ]
        }
      ]
    },
    {
      "cell_type": "code",
      "source": [
        "# Creating a Tensor with a Specific Shape and Initialization\n",
        "tensor_zeros = torch.zeros(3, 3)  # Creates a 3x3 tensor of zeros\n",
        "tensor_ones = torch.ones(2, 2)  # Creates a 2x2 tensor of ones\n",
        "tensor_random = torch.rand(4, 4)  # Creates a 4x4 tensor with random values\n",
        "tensor_normal = torch.randn(3, 3)  # 3x3 tensor with normal distribution values\n",
        "tensor_arange = torch.arange(0, 10, 2)  # [0, 2, 4, 6, 8]\n",
        "tensor_linspace = torch.linspace(0, 1, steps=5)  # [0., 0.25, 0.5, 0.75, 1.]"
      ],
      "metadata": {
        "id": "eysirKxOKErj"
      },
      "execution_count": 5,
      "outputs": []
    },
    {
      "cell_type": "code",
      "source": [
        "# Creating an Identity Matrix\n",
        "tensor_identity = torch.eye(3)  # 3x3 identity matrix"
      ],
      "metadata": {
        "id": "HHsGnoHsKEu6"
      },
      "execution_count": 6,
      "outputs": []
    },
    {
      "cell_type": "code",
      "source": [
        "# Using torch.empty()\n",
        "tensor_empty = torch.empty(2, 2)  # Creates a 2x2 tensor with uninitialized values\n",
        "tensor_empty"
      ],
      "metadata": {
        "colab": {
          "base_uri": "https://localhost:8080/"
        },
        "id": "g80j3XGrb4-4",
        "outputId": "5f55902d-ebf1-4414-8e70-f01997ec726a"
      },
      "execution_count": 7,
      "outputs": [
        {
          "output_type": "execute_result",
          "data": {
            "text/plain": [
              "tensor([[0., 0.],\n",
              "        [0., 0.]])"
            ]
          },
          "metadata": {},
          "execution_count": 7
        }
      ]
    },
    {
      "cell_type": "code",
      "source": [
        "# Converting a NumPy Array to a Tensor\n",
        "import numpy as np\n",
        "np_array = np.array([1, 2, 3])\n",
        "tensor_from_numpy = torch.from_numpy(np_array)\n",
        "tensor_from_numpy"
      ],
      "metadata": {
        "colab": {
          "base_uri": "https://localhost:8080/"
        },
        "id": "lKyDx72ecFVf",
        "outputId": "1652563d-f0d6-4185-efbc-0ddb64451bca"
      },
      "execution_count": 8,
      "outputs": [
        {
          "output_type": "execute_result",
          "data": {
            "text/plain": [
              "tensor([1, 2, 3])"
            ]
          },
          "metadata": {},
          "execution_count": 8
        }
      ]
    },
    {
      "cell_type": "code",
      "source": [
        "# Creating a Tensor on a Specific Device (CPU or GPU)\n",
        "tensor_gpu = torch.tensor([1.0, 2.0, 3.0], device='cpu')  # Requires CUDA-compatible GPU\n",
        "tensor_gpu"
      ],
      "metadata": {
        "colab": {
          "base_uri": "https://localhost:8080/"
        },
        "id": "TXd_pQxDcNdv",
        "outputId": "9d23a5cf-ca30-436d-8195-3b1329f849ab"
      },
      "execution_count": 9,
      "outputs": [
        {
          "output_type": "execute_result",
          "data": {
            "text/plain": [
              "tensor([1., 2., 3.])"
            ]
          },
          "metadata": {},
          "execution_count": 9
        }
      ]
    },
    {
      "cell_type": "markdown",
      "source": [
        "**5. How do you convert a tensor to a NumPy array and vice versa?**"
      ],
      "metadata": {
        "id": "0rLLAi7CcmrK"
      }
    },
    {
      "cell_type": "code",
      "source": [
        "# Converting a PyTorch Tensor to a NumPy Array\n",
        "tensor = torch.tensor([[1, 2], [3, 4]])\n",
        "numpy_array = tensor.numpy()\n",
        "print(numpy_array)"
      ],
      "metadata": {
        "colab": {
          "base_uri": "https://localhost:8080/"
        },
        "id": "B4iwzK5UcTmf",
        "outputId": "b4807030-733b-44c5-916b-19ca7074a40c"
      },
      "execution_count": 10,
      "outputs": [
        {
          "output_type": "stream",
          "name": "stdout",
          "text": [
            "[[1 2]\n",
            " [3 4]]\n"
          ]
        }
      ]
    },
    {
      "cell_type": "code",
      "source": [
        "# Converting a NumPy Array to a PyTorch Tensor\n",
        "numpy_array = np.array([[5, 6], [7, 8]])\n",
        "tensor = torch.from_numpy(numpy_array)\n",
        "print(tensor)"
      ],
      "metadata": {
        "colab": {
          "base_uri": "https://localhost:8080/"
        },
        "id": "Ur3I42SIcxXV",
        "outputId": "15a93da9-c65c-454e-dbc6-2a0136c540b4"
      },
      "execution_count": 11,
      "outputs": [
        {
          "output_type": "stream",
          "name": "stdout",
          "text": [
            "tensor([[5, 6],\n",
            "        [7, 8]])\n"
          ]
        }
      ]
    },
    {
      "cell_type": "code",
      "source": [
        "# Example of moving a tensor from GPU to CPU before converting\n",
        "tensor_gpu = torch.tensor([[1, 2], [3, 4]], device='cuda')\n",
        "numpy_array = tensor_gpu.cpu().numpy()  # Move to CPU and then convert\n",
        "numpy_array"
      ],
      "metadata": {
        "colab": {
          "base_uri": "https://localhost:8080/"
        },
        "id": "N6ZOQ7A8c-b0",
        "outputId": "a549b064-0ad6-4e9c-b733-0514709b6591"
      },
      "execution_count": 12,
      "outputs": [
        {
          "output_type": "execute_result",
          "data": {
            "text/plain": [
              "array([[1, 2],\n",
              "       [3, 4]])"
            ]
          },
          "metadata": {},
          "execution_count": 12
        }
      ]
    },
    {
      "cell_type": "code",
      "source": [
        "tensor = torch.tensor([[1, 2], [3, 4]], dtype=torch.float32, requires_grad=True)\n",
        "numpy_array = tensor.detach().numpy()  # Detach before converting\n",
        "numpy_array"
      ],
      "metadata": {
        "colab": {
          "base_uri": "https://localhost:8080/"
        },
        "id": "dt8bVLOjdSYX",
        "outputId": "7d90615e-236d-4791-aeb9-c5ab24aa5448"
      },
      "execution_count": 13,
      "outputs": [
        {
          "output_type": "execute_result",
          "data": {
            "text/plain": [
              "array([[1., 2.],\n",
              "       [3., 4.]], dtype=float32)"
            ]
          },
          "metadata": {},
          "execution_count": 13
        }
      ]
    },
    {
      "cell_type": "markdown",
      "source": [
        "**6. How do you check the shape of a tensor in PyTorch?**"
      ],
      "metadata": {
        "id": "suPQJYgCeFWi"
      }
    },
    {
      "cell_type": "code",
      "source": [
        "# Using the .shape Attribute\n",
        "tensor = torch.tensor([[1, 2, 3], [4, 5, 6]])\n",
        "tensor_shape = tensor.shape\n",
        "print(tensor_shape)"
      ],
      "metadata": {
        "colab": {
          "base_uri": "https://localhost:8080/"
        },
        "id": "iP4jrBkydXjX",
        "outputId": "fec4a65c-6ec9-4d9f-d0ae-46b98964d5fd"
      },
      "execution_count": 14,
      "outputs": [
        {
          "output_type": "stream",
          "name": "stdout",
          "text": [
            "torch.Size([2, 3])\n"
          ]
        }
      ]
    },
    {
      "cell_type": "code",
      "source": [
        "# Using the .size() Method\n",
        "# Checking the shape of the tensor using size()\n",
        "tensor_size = tensor.size()\n",
        "print(tensor_size)\n",
        "\n",
        "# Getting the size of a specific dimension (e.g., dimension 0)\n",
        "dim_0_size = tensor.size(0)  # Number of rows\n",
        "print(dim_0_size)\n",
        "\n",
        "# Getting the size of a specific dimension (e.g., dimension 1)\n",
        "dim_1_size = tensor.size(1)  # Number of columns\n",
        "print(dim_1_size)"
      ],
      "metadata": {
        "colab": {
          "base_uri": "https://localhost:8080/"
        },
        "id": "wfVi-AIGeIWb",
        "outputId": "e78fd5b4-2710-47d2-e8c7-b546e8095266"
      },
      "execution_count": 15,
      "outputs": [
        {
          "output_type": "stream",
          "name": "stdout",
          "text": [
            "torch.Size([2, 3])\n",
            "2\n",
            "3\n"
          ]
        }
      ]
    },
    {
      "cell_type": "markdown",
      "source": [
        "**7. How can you change the shape of a tensor?**"
      ],
      "metadata": {
        "id": "H9fLovWlgUZr"
      }
    },
    {
      "cell_type": "code",
      "source": [
        "# Using .view() Method\n",
        "tensor = torch.tensor([[1, 2, 3], [4, 5, 6]])\n",
        "reshaped_tensor = tensor.view(3, 2)\n",
        "print(reshaped_tensor)"
      ],
      "metadata": {
        "colab": {
          "base_uri": "https://localhost:8080/"
        },
        "id": "MT4WrxjVeIZS",
        "outputId": "b1f3484d-98cf-489c-8721-95a836674c51"
      },
      "execution_count": 16,
      "outputs": [
        {
          "output_type": "stream",
          "name": "stdout",
          "text": [
            "tensor([[1, 2],\n",
            "        [3, 4],\n",
            "        [5, 6]])\n"
          ]
        }
      ]
    },
    {
      "cell_type": "code",
      "source": [
        "# Using .reshape() Method\n",
        "reshaped_tensor = tensor.reshape(2, 3)\n",
        "print(reshaped_tensor)"
      ],
      "metadata": {
        "colab": {
          "base_uri": "https://localhost:8080/"
        },
        "id": "m_SE8SHYeIcL",
        "outputId": "d86aa1cd-9c36-4263-98b0-c5269d90beae"
      },
      "execution_count": 17,
      "outputs": [
        {
          "output_type": "stream",
          "name": "stdout",
          "text": [
            "tensor([[1, 2, 3],\n",
            "        [4, 5, 6]])\n"
          ]
        }
      ]
    },
    {
      "cell_type": "code",
      "source": [
        "# Using .resize_() Method\n",
        "tensor = torch.tensor([[1, 2], [3, 4]])\n",
        "tensor.resize_(4, 2)  # This may lead to unexpected results\n",
        "print(tensor)"
      ],
      "metadata": {
        "colab": {
          "base_uri": "https://localhost:8080/"
        },
        "id": "MKl-I2N9eIez",
        "outputId": "d3e379ab-4b53-4810-dbd7-2bca827c1540"
      },
      "execution_count": 18,
      "outputs": [
        {
          "output_type": "stream",
          "name": "stdout",
          "text": [
            "tensor([[                  1,                   2],\n",
            "        [                  3,                   4],\n",
            "        [                  0, 7235419174270214779],\n",
            "        [4122031920162814498, 3774359729567315558]])\n"
          ]
        }
      ]
    },
    {
      "cell_type": "markdown",
      "source": [
        "**8. What is the purpose of .view() and .reshape() in PyTorch?**"
      ],
      "metadata": {
        "id": "eKGcGgNQg07U"
      }
    },
    {
      "cell_type": "markdown",
      "source": [
        "- Use .view() when you are sure that the tensor is contiguous and you want a quick and efficient reshaping.\n",
        "- Use .reshape() when you are unsure about the contiguity of the tensor, as it can handle both contiguous and non-contiguous cases."
      ],
      "metadata": {
        "id": "oYxtzbacg9AQ"
      }
    },
    {
      "cell_type": "code",
      "source": [
        "# Purpose of .view()\n",
        "tensor = torch.tensor([[1, 2, 3], [4, 5, 6]])\n",
        "reshaped_tensor = tensor.view(3, 2)\n",
        "print(reshaped_tensor)"
      ],
      "metadata": {
        "colab": {
          "base_uri": "https://localhost:8080/"
        },
        "id": "K32GEp1feIhq",
        "outputId": "89e2c9af-893e-41c7-dfae-53c91e548300"
      },
      "execution_count": 19,
      "outputs": [
        {
          "output_type": "stream",
          "name": "stdout",
          "text": [
            "tensor([[1, 2],\n",
            "        [3, 4],\n",
            "        [5, 6]])\n"
          ]
        }
      ]
    },
    {
      "cell_type": "code",
      "source": [
        "# Purpose of .reshape()\n",
        "tensor = torch.tensor([[1, 2, 3], [4, 5, 6]])\n",
        "reshaped_tensor = tensor.reshape(2, 3)\n",
        "print(reshaped_tensor)"
      ],
      "metadata": {
        "colab": {
          "base_uri": "https://localhost:8080/"
        },
        "id": "y5olJ0dpeIkw",
        "outputId": "9f95a422-3b95-48ad-8de1-7d3421daa810"
      },
      "execution_count": 20,
      "outputs": [
        {
          "output_type": "stream",
          "name": "stdout",
          "text": [
            "tensor([[1, 2, 3],\n",
            "        [4, 5, 6]])\n"
          ]
        }
      ]
    },
    {
      "cell_type": "markdown",
      "source": [
        "**9. How do you perform element-wise addition on two tensors?**"
      ],
      "metadata": {
        "id": "_UKO7sJziFSQ"
      }
    },
    {
      "cell_type": "code",
      "source": [
        "# Using the + Operator\n",
        "tensor1 = torch.tensor([1, 2, 3])\n",
        "tensor2 = torch.tensor([4, 5, 6])\n",
        "result = tensor1 + tensor2\n",
        "print(result)  # Output: tensor([5, 7, 9])"
      ],
      "metadata": {
        "colab": {
          "base_uri": "https://localhost:8080/"
        },
        "id": "IR0rUZ2TeInU",
        "outputId": "eb26ca64-5d6e-47dc-888b-55fe64db8428"
      },
      "execution_count": 21,
      "outputs": [
        {
          "output_type": "stream",
          "name": "stdout",
          "text": [
            "tensor([5, 7, 9])\n"
          ]
        }
      ]
    },
    {
      "cell_type": "code",
      "source": [
        "# Using the torch.add() Function\n",
        "result = torch.add(tensor1, tensor2)\n",
        "print(result)  # Output: tensor([5, 7, 9])"
      ],
      "metadata": {
        "colab": {
          "base_uri": "https://localhost:8080/"
        },
        "id": "q3JCk83eeIqA",
        "outputId": "aa74a01c-d08c-490f-82eb-55bf08599507"
      },
      "execution_count": 22,
      "outputs": [
        {
          "output_type": "stream",
          "name": "stdout",
          "text": [
            "tensor([5, 7, 9])\n"
          ]
        }
      ]
    },
    {
      "cell_type": "code",
      "source": [
        "# Using In-Place Addition\n",
        "tensor1 += tensor2\n",
        "print(tensor1)  # Output: tensor([5, 7, 9])"
      ],
      "metadata": {
        "colab": {
          "base_uri": "https://localhost:8080/"
        },
        "id": "s9NpxJcDeItH",
        "outputId": "38b52a17-8a01-46c9-f618-053ca13a4600"
      },
      "execution_count": 23,
      "outputs": [
        {
          "output_type": "stream",
          "name": "stdout",
          "text": [
            "tensor([5, 7, 9])\n"
          ]
        }
      ]
    },
    {
      "cell_type": "code",
      "source": [
        "# Broadcasting\n",
        "tensor1 = torch.tensor([[1, 2, 3], [4, 5, 6]])\n",
        "tensor2 = torch.tensor([1, 2, 3])  # 1D tensor\n",
        "result = tensor1 + tensor2\n",
        "print(result)"
      ],
      "metadata": {
        "colab": {
          "base_uri": "https://localhost:8080/"
        },
        "id": "1b7MvWqyeIv5",
        "outputId": "fba31971-5d0f-4f5b-89c9-e483caa9ae60"
      },
      "execution_count": 24,
      "outputs": [
        {
          "output_type": "stream",
          "name": "stdout",
          "text": [
            "tensor([[2, 4, 6],\n",
            "        [5, 7, 9]])\n"
          ]
        }
      ]
    },
    {
      "cell_type": "markdown",
      "source": [
        "**10. How do you concatenate two tensors along a specified dimension?**"
      ],
      "metadata": {
        "id": "vPj8Yt6Ri1X6"
      }
    },
    {
      "cell_type": "code",
      "source": [
        "# Concatenating 1D Tensors\n",
        "tensor1 = torch.tensor([1, 2, 3])\n",
        "tensor2 = torch.tensor([4, 5, 6])\n",
        "result = torch.cat((tensor1, tensor2))\n",
        "print(result)  # Output: tensor([1, 2, 3, 4, 5, 6])"
      ],
      "metadata": {
        "colab": {
          "base_uri": "https://localhost:8080/"
        },
        "id": "MRGEoAqkirpZ",
        "outputId": "70f0dc19-8f6c-49fb-a113-2109c1e038dc"
      },
      "execution_count": 25,
      "outputs": [
        {
          "output_type": "stream",
          "name": "stdout",
          "text": [
            "tensor([1, 2, 3, 4, 5, 6])\n"
          ]
        }
      ]
    },
    {
      "cell_type": "code",
      "source": [
        "# Concatenating 2D Tensors\n",
        "tensor1 = torch.tensor([[1, 2], [3, 4]])\n",
        "tensor2 = torch.tensor([[5, 6], [7, 8]])\n",
        "result_dim0 = torch.cat((tensor1, tensor2), dim=0)\n",
        "print(result_dim0)\n",
        "result_dim1 = torch.cat((tensor1, tensor2), dim=1)\n",
        "print(result_dim1)"
      ],
      "metadata": {
        "colab": {
          "base_uri": "https://localhost:8080/"
        },
        "id": "Su5nQ-o8jNxs",
        "outputId": "824b277b-1857-4bf0-b14a-c06d640daae6"
      },
      "execution_count": 26,
      "outputs": [
        {
          "output_type": "stream",
          "name": "stdout",
          "text": [
            "tensor([[1, 2],\n",
            "        [3, 4],\n",
            "        [5, 6],\n",
            "        [7, 8]])\n",
            "tensor([[1, 2, 5, 6],\n",
            "        [3, 4, 7, 8]])\n"
          ]
        }
      ]
    },
    {
      "cell_type": "markdown",
      "source": [
        "**11. How can you slice a tensor in PyTorch?**"
      ],
      "metadata": {
        "id": "-sz760ipjhqz"
      }
    },
    {
      "cell_type": "code",
      "source": [
        "x = torch.arange(16).reshape(4, 4)\n",
        "print(x)"
      ],
      "metadata": {
        "colab": {
          "base_uri": "https://localhost:8080/"
        },
        "id": "uyMg7WAZwtTX",
        "outputId": "b4ded40d-f0af-4965-e295-959a4e17248b"
      },
      "execution_count": 27,
      "outputs": [
        {
          "output_type": "stream",
          "name": "stdout",
          "text": [
            "tensor([[ 0,  1,  2,  3],\n",
            "        [ 4,  5,  6,  7],\n",
            "        [ 8,  9, 10, 11],\n",
            "        [12, 13, 14, 15]])\n"
          ]
        }
      ]
    },
    {
      "cell_type": "code",
      "source": [
        "# Select rows or columns\n",
        "print(x[0, :])    # First row\n",
        "print(x[:, 1])    # Second column"
      ],
      "metadata": {
        "colab": {
          "base_uri": "https://localhost:8080/"
        },
        "id": "nCMBtblQwudT",
        "outputId": "d9ba9a5d-4c95-44d8-bffa-1bda8c8eee75"
      },
      "execution_count": 28,
      "outputs": [
        {
          "output_type": "stream",
          "name": "stdout",
          "text": [
            "tensor([0, 1, 2, 3])\n",
            "tensor([ 1,  5,  9, 13])\n"
          ]
        }
      ]
    },
    {
      "cell_type": "code",
      "source": [
        "# Slicing ranges\n",
        "print(x[1:3, :])  # Rows 1 and 2\n",
        "print(x[:, 1:3])  # Columns 1 and 2"
      ],
      "metadata": {
        "colab": {
          "base_uri": "https://localhost:8080/"
        },
        "id": "X4QRxIERwugQ",
        "outputId": "877aaef0-d173-4bdc-9ca5-fe872972a112"
      },
      "execution_count": 29,
      "outputs": [
        {
          "output_type": "stream",
          "name": "stdout",
          "text": [
            "tensor([[ 4,  5,  6,  7],\n",
            "        [ 8,  9, 10, 11]])\n",
            "tensor([[ 1,  2],\n",
            "        [ 5,  6],\n",
            "        [ 9, 10],\n",
            "        [13, 14]])\n"
          ]
        }
      ]
    },
    {
      "cell_type": "code",
      "source": [
        "# Advanced slicing\n",
        "x[::2, ::2]  # Every second row and column"
      ],
      "metadata": {
        "colab": {
          "base_uri": "https://localhost:8080/"
        },
        "id": "aTyBUEVPwui8",
        "outputId": "2b3fa2ca-5b96-46c2-ee44-ca5f7b65614f"
      },
      "execution_count": 30,
      "outputs": [
        {
          "output_type": "execute_result",
          "data": {
            "text/plain": [
              "tensor([[ 0,  2],\n",
              "        [ 8, 10]])"
            ]
          },
          "metadata": {},
          "execution_count": 30
        }
      ]
    },
    {
      "cell_type": "markdown",
      "source": [
        "**12. How do you get the number of elements in a tensor?**"
      ],
      "metadata": {
        "id": "wIB0hk8ij4V0"
      }
    },
    {
      "cell_type": "code",
      "source": [
        "x = torch.tensor([[1, 2, 3], [4, 5, 6]])\n",
        "print(x.numel())"
      ],
      "metadata": {
        "colab": {
          "base_uri": "https://localhost:8080/"
        },
        "id": "nmuzq7CRxbAa",
        "outputId": "fd101237-b4dc-4d95-e7df-1576ef7a9ad2"
      },
      "execution_count": 31,
      "outputs": [
        {
          "output_type": "stream",
          "name": "stdout",
          "text": [
            "6\n"
          ]
        }
      ]
    },
    {
      "cell_type": "markdown",
      "source": [
        "**13. How can you check if a tensor is on the GPU?**"
      ],
      "metadata": {
        "id": "p_Vf8F6Kj9ZJ"
      }
    },
    {
      "cell_type": "code",
      "source": [
        "x = torch.tensor([1, 2, 3])\n",
        "print(x.is_cuda)"
      ],
      "metadata": {
        "colab": {
          "base_uri": "https://localhost:8080/"
        },
        "id": "JUHAtdJQxkh_",
        "outputId": "bbbc2d30-4ede-413e-d3f7-c74b75627611"
      },
      "execution_count": 32,
      "outputs": [
        {
          "output_type": "stream",
          "name": "stdout",
          "text": [
            "False\n"
          ]
        }
      ]
    },
    {
      "cell_type": "markdown",
      "source": [
        "**14. How do you move a tensor to the GPU in PyTorch?**"
      ],
      "metadata": {
        "id": "e3Oaj6GGkDME"
      }
    },
    {
      "cell_type": "code",
      "source": [
        "x = torch.tensor([1, 2, 3])\n",
        "x = x.to('cuda') if torch.cuda.is_available() else x"
      ],
      "metadata": {
        "id": "14eWVHHexs6q"
      },
      "execution_count": 33,
      "outputs": []
    },
    {
      "cell_type": "code",
      "source": [
        "device = 'cuda' if torch.cuda.is_available() else 'cpu'\n",
        "x = x.to(device)"
      ],
      "metadata": {
        "id": "G5d_Nxaox8ra"
      },
      "execution_count": 34,
      "outputs": []
    },
    {
      "cell_type": "markdown",
      "source": [
        "**15. How do you move a tensor back to the CPU?**"
      ],
      "metadata": {
        "id": "HhAjvt-ekJba"
      }
    },
    {
      "cell_type": "code",
      "source": [
        "x = x.to('cpu')"
      ],
      "metadata": {
        "id": "eFVEAffzyArK"
      },
      "execution_count": 35,
      "outputs": []
    },
    {
      "cell_type": "markdown",
      "source": [
        "**16. What’s the difference between .detach() and .requires_grad=False?**"
      ],
      "metadata": {
        "id": "SJzYhnMfojoA"
      }
    },
    {
      "cell_type": "code",
      "source": [
        "x = torch.tensor([1.0, 2.0, 3.0], requires_grad=True)\n",
        "y = x.detach()\n",
        "y"
      ],
      "metadata": {
        "colab": {
          "base_uri": "https://localhost:8080/"
        },
        "id": "JLyENZnIyEy6",
        "outputId": "28669167-a3cf-47f1-deb9-75571ff3719a"
      },
      "execution_count": 36,
      "outputs": [
        {
          "output_type": "execute_result",
          "data": {
            "text/plain": [
              "tensor([1., 2., 3.])"
            ]
          },
          "metadata": {},
          "execution_count": 36
        }
      ]
    },
    {
      "cell_type": "code",
      "source": [
        "x = torch.tensor([1.0, 2.0, 3.0], requires_grad=True)\n",
        "x.requires_grad = False\n",
        "x"
      ],
      "metadata": {
        "colab": {
          "base_uri": "https://localhost:8080/"
        },
        "id": "iXhr1p8cyUdO",
        "outputId": "ec706652-a3c1-4b5e-ef4c-2aa0e1b8fed4"
      },
      "execution_count": 37,
      "outputs": [
        {
          "output_type": "execute_result",
          "data": {
            "text/plain": [
              "tensor([1., 2., 3.])"
            ]
          },
          "metadata": {},
          "execution_count": 37
        }
      ]
    },
    {
      "cell_type": "markdown",
      "source": [
        "**17. How do you transpose a tensor?**"
      ],
      "metadata": {
        "id": "GyHbwi0mkOIp"
      }
    },
    {
      "cell_type": "code",
      "source": [
        "# Using .transpose(dim0, dim1)\n",
        "x = torch.tensor([[1, 2, 3], [4, 5, 6]])\n",
        "x_transposed = x.transpose(0, 1)\n",
        "print(x_transposed)"
      ],
      "metadata": {
        "colab": {
          "base_uri": "https://localhost:8080/"
        },
        "id": "Btl3zD5Jyke4",
        "outputId": "b3778e43-89e3-429b-8f01-40dddda5ec72"
      },
      "execution_count": 38,
      "outputs": [
        {
          "output_type": "stream",
          "name": "stdout",
          "text": [
            "tensor([[1, 4],\n",
            "        [2, 5],\n",
            "        [3, 6]])\n"
          ]
        }
      ]
    },
    {
      "cell_type": "code",
      "source": [
        "# Using .t() (for 2D matrices only)\n",
        "x = torch.tensor([[1, 2, 3], [4, 5, 6]])\n",
        "x_t = x.t()\n",
        "print(x_t)"
      ],
      "metadata": {
        "colab": {
          "base_uri": "https://localhost:8080/"
        },
        "id": "dSQBE8Tnyn4y",
        "outputId": "702a8bc1-77cb-4395-b797-f6030e108572"
      },
      "execution_count": 39,
      "outputs": [
        {
          "output_type": "stream",
          "name": "stdout",
          "text": [
            "tensor([[1, 4],\n",
            "        [2, 5],\n",
            "        [3, 6]])\n"
          ]
        }
      ]
    },
    {
      "cell_type": "code",
      "source": [
        "# Using .permute(*dims) for Arbitrary Dimensionality\n",
        "x = torch.randn(2, 3, 4)  # Example 3D tensor\n",
        "x_permuted = x.permute(2, 0, 1)  # Change order of dimensions\n",
        "print(x_permuted.shape)"
      ],
      "metadata": {
        "colab": {
          "base_uri": "https://localhost:8080/"
        },
        "id": "CDUti3Ngy6VD",
        "outputId": "d046c8b3-1264-4d3a-8863-f143ae32d450"
      },
      "execution_count": 40,
      "outputs": [
        {
          "output_type": "stream",
          "name": "stdout",
          "text": [
            "torch.Size([4, 2, 3])\n"
          ]
        }
      ]
    },
    {
      "cell_type": "markdown",
      "source": [
        "**18. What’s the difference between .t() and .transpose()?**"
      ],
      "metadata": {
        "id": "alGS4AgbkR44"
      }
    },
    {
      "cell_type": "markdown",
      "source": [
        "- .t() for quick 2D transpositions, and .transpose() for more flexible, multi-dimensional transpositions."
      ],
      "metadata": {
        "id": "mmIlXPjcy3AQ"
      }
    },
    {
      "cell_type": "markdown",
      "source": [
        "**19. How can you initialize a tensor with random values?**"
      ],
      "metadata": {
        "id": "GekwCMKMkWrR"
      }
    },
    {
      "cell_type": "code",
      "source": [
        "# Uniformly Distributed Random Values: torch.rand()\n",
        "x = torch.rand(3, 3)  # 3x3 tensor with values in [0, 1)\n",
        "print(x)"
      ],
      "metadata": {
        "colab": {
          "base_uri": "https://localhost:8080/"
        },
        "id": "0tpqWLuIzCUS",
        "outputId": "e28b43c6-5ce4-407b-fd25-1b8268f20c48"
      },
      "execution_count": 41,
      "outputs": [
        {
          "output_type": "stream",
          "name": "stdout",
          "text": [
            "tensor([[0.8302, 0.2694, 0.3707],\n",
            "        [0.9966, 0.0659, 0.8029],\n",
            "        [0.5867, 0.1673, 0.1953]])\n"
          ]
        }
      ]
    },
    {
      "cell_type": "code",
      "source": [
        "# Normally Distributed Random Values: torch.randn()\n",
        "x = torch.randn(3, 3)  # 3x3 tensor with values from N(0, 1)\n",
        "print(x)"
      ],
      "metadata": {
        "colab": {
          "base_uri": "https://localhost:8080/"
        },
        "id": "ACj8w07KzTVT",
        "outputId": "f867165e-21b9-4e33-dbbf-eef12694ffe2"
      },
      "execution_count": 42,
      "outputs": [
        {
          "output_type": "stream",
          "name": "stdout",
          "text": [
            "tensor([[-0.8434, -0.8812, -1.1155],\n",
            "        [ 0.0643,  2.0888, -1.1783],\n",
            "        [ 0.0121, -1.0492, -0.0210]])\n"
          ]
        }
      ]
    },
    {
      "cell_type": "code",
      "source": [
        "# Random Integers: torch.randint()\n",
        "x = torch.randint(0, 10, (3, 3))  # 3x3 tensor with integer values in [0, 10)\n",
        "print(x)"
      ],
      "metadata": {
        "colab": {
          "base_uri": "https://localhost:8080/"
        },
        "id": "jiwhOfEczTYw",
        "outputId": "0b03d1f6-bc17-4780-c565-897df89bdaff"
      },
      "execution_count": 43,
      "outputs": [
        {
          "output_type": "stream",
          "name": "stdout",
          "text": [
            "tensor([[9, 3, 9],\n",
            "        [6, 4, 3],\n",
            "        [5, 5, 4]])\n"
          ]
        }
      ]
    },
    {
      "cell_type": "code",
      "source": [
        "# Random Values in a Specified Range: torch.empty() with .uniform_() or .normal_()\n",
        "# Uniformly distributed values in [a, b]\n",
        "x = torch.empty(3, 3).uniform_(-1, 1)\n",
        "print(x)\n",
        "\n",
        "# Normally distributed values with mean and std deviation\n",
        "x = torch.empty(3, 3).normal_(mean=0, std=1)\n",
        "print(x)"
      ],
      "metadata": {
        "colab": {
          "base_uri": "https://localhost:8080/"
        },
        "id": "62ObHySizTbV",
        "outputId": "bb86c800-d1c1-45cd-eeba-d1007795992f"
      },
      "execution_count": 44,
      "outputs": [
        {
          "output_type": "stream",
          "name": "stdout",
          "text": [
            "tensor([[ 0.3882, -0.2747, -0.9303],\n",
            "        [ 0.6378,  0.1922,  0.5275],\n",
            "        [-0.2408,  0.7307, -0.0566]])\n",
            "tensor([[ 0.0026,  0.4301, -0.5090],\n",
            "        [ 2.1904, -1.7123, -0.5905],\n",
            "        [ 0.8708, -1.1731,  0.0767]])\n"
          ]
        }
      ]
    },
    {
      "cell_type": "markdown",
      "source": [
        "**20. How do you create a tensor filled with ones, zeros, or a specific value?**"
      ],
      "metadata": {
        "id": "CWJkVot4oxw8"
      }
    },
    {
      "cell_type": "code",
      "source": [
        "# Tensor Filled with Zeros: torch.zeros()\n",
        "x = torch.zeros(3, 3)  # Creates a 3x3 tensor of zeros\n",
        "print(x)"
      ],
      "metadata": {
        "colab": {
          "base_uri": "https://localhost:8080/"
        },
        "id": "GVHCR-_b0P83",
        "outputId": "73a00e2e-fcd7-4091-bb24-4c74541eaa95"
      },
      "execution_count": 45,
      "outputs": [
        {
          "output_type": "stream",
          "name": "stdout",
          "text": [
            "tensor([[0., 0., 0.],\n",
            "        [0., 0., 0.],\n",
            "        [0., 0., 0.]])\n"
          ]
        }
      ]
    },
    {
      "cell_type": "code",
      "source": [
        "# Tensor Filled with Ones: torch.ones()\n",
        "x = torch.ones(3, 3)  # Creates a 3x3 tensor of ones\n",
        "print(x)"
      ],
      "metadata": {
        "colab": {
          "base_uri": "https://localhost:8080/"
        },
        "id": "xDuyT8860QH_",
        "outputId": "1520b230-fe95-4339-f504-e201c77b21e9"
      },
      "execution_count": 46,
      "outputs": [
        {
          "output_type": "stream",
          "name": "stdout",
          "text": [
            "tensor([[1., 1., 1.],\n",
            "        [1., 1., 1.],\n",
            "        [1., 1., 1.]])\n"
          ]
        }
      ]
    },
    {
      "cell_type": "code",
      "source": [
        "# Tensor Filled with a Specific Value: torch.full()\n",
        "x = torch.full((3, 3), 7)  # Creates a 3x3 tensor filled with the value 7\n",
        "print(x)"
      ],
      "metadata": {
        "colab": {
          "base_uri": "https://localhost:8080/"
        },
        "id": "amCOPro_0QLM",
        "outputId": "eb96a6a6-0989-459a-d4f4-042405bef83a"
      },
      "execution_count": 47,
      "outputs": [
        {
          "output_type": "stream",
          "name": "stdout",
          "text": [
            "tensor([[7, 7, 7],\n",
            "        [7, 7, 7],\n",
            "        [7, 7, 7]])\n"
          ]
        }
      ]
    },
    {
      "cell_type": "markdown",
      "source": [
        "**21. What is the difference between a scalar, vector, matrix, and tensor in PyTorch?**"
      ],
      "metadata": {
        "id": "XWz64T6Ukbr9"
      }
    },
    {
      "cell_type": "code",
      "source": [
        "# Scalar - 0D () Single value\n",
        "scalar = torch.tensor(5)  # Scalar tensor with a single value\n",
        "print(scalar)             # Output: tensor(5)\n",
        "print(scalar.shape)       # Output: torch.Size([])"
      ],
      "metadata": {
        "colab": {
          "base_uri": "https://localhost:8080/"
        },
        "id": "RD9IzWwg0v78",
        "outputId": "0328e169-7505-45fe-8a2b-545735e52156"
      },
      "execution_count": 48,
      "outputs": [
        {
          "output_type": "stream",
          "name": "stdout",
          "text": [
            "tensor(5)\n",
            "torch.Size([])\n"
          ]
        }
      ]
    },
    {
      "cell_type": "code",
      "source": [
        "# Vector - 1D (n,) One-dimensional array\n",
        "vector = torch.tensor([1, 2, 3])  # Vector tensor with 3 elements\n",
        "print(vector)                     # Output: tensor([1, 2, 3])\n",
        "print(vector.shape)               # Output: torch.Size([3])"
      ],
      "metadata": {
        "colab": {
          "base_uri": "https://localhost:8080/"
        },
        "id": "1tV0EUSc1OdZ",
        "outputId": "526aa336-639e-4b1f-a709-53e94fcbdac7"
      },
      "execution_count": 49,
      "outputs": [
        {
          "output_type": "stream",
          "name": "stdout",
          "text": [
            "tensor([1, 2, 3])\n",
            "torch.Size([3])\n"
          ]
        }
      ]
    },
    {
      "cell_type": "code",
      "source": [
        "# Matrix - 2D (n, m) Two-dimensional array\n",
        "matrix = torch.tensor([[1, 2, 3], [4, 5, 6]])  # 2x3 matrix\n",
        "print(matrix)                                  # Output: tensor([[1, 2, 3], [4, 5, 6]])\n",
        "print(matrix.shape)                            # Output: torch.Size([2, 3])"
      ],
      "metadata": {
        "colab": {
          "base_uri": "https://localhost:8080/"
        },
        "id": "GPng9N6G1Ogw",
        "outputId": "49359c57-09b4-4d62-f2f2-83f787098d0f"
      },
      "execution_count": 50,
      "outputs": [
        {
          "output_type": "stream",
          "name": "stdout",
          "text": [
            "tensor([[1, 2, 3],\n",
            "        [4, 5, 6]])\n",
            "torch.Size([2, 3])\n"
          ]
        }
      ]
    },
    {
      "cell_type": "code",
      "source": [
        "# Tensor (Higher-dimensional) - 3D or more (n, m, p, ...) Multi-dimensional array\n",
        "tensor_3d = torch.tensor([[[1, 2], [3, 4]], [[5, 6], [7, 8]]])  # 3D tensor\n",
        "print(tensor_3d)              # Output: tensor([[[1, 2], [3, 4]], [[5, 6], [7, 8]]])\n",
        "print(tensor_3d.shape)        # Output: torch.Size([2, 2, 2])"
      ],
      "metadata": {
        "colab": {
          "base_uri": "https://localhost:8080/"
        },
        "id": "2omiBNL_1Okt",
        "outputId": "8c1aa069-2c1f-4f23-9f55-b58db1337363"
      },
      "execution_count": 51,
      "outputs": [
        {
          "output_type": "stream",
          "name": "stdout",
          "text": [
            "tensor([[[1, 2],\n",
            "         [3, 4]],\n",
            "\n",
            "        [[5, 6],\n",
            "         [7, 8]]])\n",
            "torch.Size([2, 2, 2])\n"
          ]
        }
      ]
    },
    {
      "cell_type": "markdown",
      "source": [
        "**22. How do you create a tensor with random values between 0 and 1?**"
      ],
      "metadata": {
        "id": "PQrNwTIwkiMp"
      }
    },
    {
      "cell_type": "code",
      "source": [
        "random_tensor = torch.rand(3, 3)\n",
        "print(random_tensor)"
      ],
      "metadata": {
        "colab": {
          "base_uri": "https://localhost:8080/"
        },
        "id": "Nfh2TapR1wWs",
        "outputId": "53734dfb-1a1d-42f5-a1d4-c92ab6ba3408"
      },
      "execution_count": 52,
      "outputs": [
        {
          "output_type": "stream",
          "name": "stdout",
          "text": [
            "tensor([[0.2326, 0.5601, 0.2636],\n",
            "        [0.6543, 0.7685, 0.1023],\n",
            "        [0.0541, 0.1579, 0.3964]])\n"
          ]
        }
      ]
    },
    {
      "cell_type": "markdown",
      "source": [
        "**23. How do you create an identity matrix tensor in PyTorch?**"
      ],
      "metadata": {
        "id": "u06KkC-Ukml7"
      }
    },
    {
      "cell_type": "code",
      "source": [
        "identity_matrix = torch.eye(3)\n",
        "print(identity_matrix)"
      ],
      "metadata": {
        "colab": {
          "base_uri": "https://localhost:8080/"
        },
        "id": "4c3xPcD22ONc",
        "outputId": "d702479c-b40e-4d51-c15c-f98b7735bd2a"
      },
      "execution_count": 53,
      "outputs": [
        {
          "output_type": "stream",
          "name": "stdout",
          "text": [
            "tensor([[1., 0., 0.],\n",
            "        [0., 1., 0.],\n",
            "        [0., 0., 1.]])\n"
          ]
        }
      ]
    },
    {
      "cell_type": "code",
      "source": [
        "identity_like_matrix = torch.eye(3, 4)\n",
        "print(identity_like_matrix)"
      ],
      "metadata": {
        "colab": {
          "base_uri": "https://localhost:8080/"
        },
        "id": "SBckW4A-2SBc",
        "outputId": "d0307328-50a6-44c9-da1f-72e722e1e4be"
      },
      "execution_count": 54,
      "outputs": [
        {
          "output_type": "stream",
          "name": "stdout",
          "text": [
            "tensor([[1., 0., 0., 0.],\n",
            "        [0., 1., 0., 0.],\n",
            "        [0., 0., 1., 0.]])\n"
          ]
        }
      ]
    },
    {
      "cell_type": "markdown",
      "source": [
        "**24. How do you generate a tensor with values from a normal distribution in PyTorch?**"
      ],
      "metadata": {
        "id": "rdbf_KaFkse9"
      }
    },
    {
      "cell_type": "code",
      "source": [
        "# Using torch.randn()\n",
        "standard_normal_tensor = torch.randn(3, 3)\n",
        "print(standard_normal_tensor)"
      ],
      "metadata": {
        "colab": {
          "base_uri": "https://localhost:8080/"
        },
        "id": "HYH4stwr2cgR",
        "outputId": "f1f84000-9b8b-4889-b640-ae93b5966e22"
      },
      "execution_count": 55,
      "outputs": [
        {
          "output_type": "stream",
          "name": "stdout",
          "text": [
            "tensor([[-0.3133, -0.1716,  1.6374],\n",
            "        [ 1.0650,  0.8057,  0.5872],\n",
            "        [-0.0242, -1.4778,  1.8295]])\n"
          ]
        }
      ]
    },
    {
      "cell_type": "code",
      "source": [
        "# Using torch.normal()\n",
        "mean = 5.0\n",
        "std_dev = 2.0\n",
        "custom_normal_tensor = torch.normal(mean, std_dev, size=(3, 3))\n",
        "print(custom_normal_tensor)"
      ],
      "metadata": {
        "colab": {
          "base_uri": "https://localhost:8080/"
        },
        "id": "hcI0NSJG2ci7",
        "outputId": "df9359d1-93a6-402a-97a0-6f42a50c62ab"
      },
      "execution_count": 56,
      "outputs": [
        {
          "output_type": "stream",
          "name": "stdout",
          "text": [
            "tensor([[7.3190, 4.0043, 7.5515],\n",
            "        [3.7856, 3.3593, 3.7145],\n",
            "        [2.6327, 3.9001, 3.6215]])\n"
          ]
        }
      ]
    },
    {
      "cell_type": "markdown",
      "source": [
        "**25. What’s the difference between torch.arange() and torch.linspace()?**"
      ],
      "metadata": {
        "id": "Kgw7GI-gk0HO"
      }
    },
    {
      "cell_type": "code",
      "source": [
        "# torch.arange()\n",
        "tensor_arange = torch.arange(0, 10, 1)\n",
        "print(tensor_arange)  # Output: tensor([0, 1, 2, 3, 4, 5, 6, 7, 8, 9])"
      ],
      "metadata": {
        "colab": {
          "base_uri": "https://localhost:8080/"
        },
        "id": "VrIkG4Yp2rcq",
        "outputId": "1fc63262-bffe-4f5a-b39c-4b0afa31d296"
      },
      "execution_count": 57,
      "outputs": [
        {
          "output_type": "stream",
          "name": "stdout",
          "text": [
            "tensor([0, 1, 2, 3, 4, 5, 6, 7, 8, 9])\n"
          ]
        }
      ]
    },
    {
      "cell_type": "code",
      "source": [
        "# torch.linspace()\n",
        "tensor_linspace = torch.linspace(0, 10, steps=5)\n",
        "print(tensor_linspace)  # Output: tensor([ 0.,  2.5,  5.,  7.5, 10.])"
      ],
      "metadata": {
        "colab": {
          "base_uri": "https://localhost:8080/"
        },
        "id": "fbZP6_Jq2rfW",
        "outputId": "f62427fe-d905-4807-9947-c35d998082ba"
      },
      "execution_count": 58,
      "outputs": [
        {
          "output_type": "stream",
          "name": "stdout",
          "text": [
            "tensor([ 0.0000,  2.5000,  5.0000,  7.5000, 10.0000])\n"
          ]
        }
      ]
    },
    {
      "cell_type": "markdown",
      "source": [
        "**26. How do you set the random seed in PyTorch for reproducibility?**"
      ],
      "metadata": {
        "id": "aEfVLwPXlCaB"
      }
    },
    {
      "cell_type": "code",
      "source": [
        "torch.manual_seed(42)\n",
        "random_tensor = torch.rand(3, 3)\n",
        "print(random_tensor)"
      ],
      "metadata": {
        "colab": {
          "base_uri": "https://localhost:8080/"
        },
        "id": "2dz7pXkE3GY1",
        "outputId": "7c0679a9-f917-4b57-ec7a-503acb59a4e7"
      },
      "execution_count": 59,
      "outputs": [
        {
          "output_type": "stream",
          "name": "stdout",
          "text": [
            "tensor([[0.8823, 0.9150, 0.3829],\n",
            "        [0.9593, 0.3904, 0.6009],\n",
            "        [0.2566, 0.7936, 0.9408]])\n"
          ]
        }
      ]
    },
    {
      "cell_type": "markdown",
      "source": [
        "**27. How can you convert a Python list or tuple directly into a PyTorch tensor?**"
      ],
      "metadata": {
        "id": "Wxc_bOQBlJOh"
      }
    },
    {
      "cell_type": "code",
      "source": [
        "my_tuple = (6, 7, 8, 9, 10)\n",
        "tensor_from_tuple = torch.tensor(my_tuple)\n",
        "print(tensor_from_tuple)"
      ],
      "metadata": {
        "colab": {
          "base_uri": "https://localhost:8080/"
        },
        "id": "yXhYnXt63Pp9",
        "outputId": "c5200fa4-8ef6-4f8e-aa43-9b9e274fd4cd"
      },
      "execution_count": 60,
      "outputs": [
        {
          "output_type": "stream",
          "name": "stdout",
          "text": [
            "tensor([ 6,  7,  8,  9, 10])\n"
          ]
        }
      ]
    },
    {
      "cell_type": "code",
      "source": [
        "nested_list = [[1, 2, 3], [4, 5, 6]]\n",
        "tensor_from_nested = torch.tensor(nested_list)\n",
        "print(tensor_from_nested)"
      ],
      "metadata": {
        "colab": {
          "base_uri": "https://localhost:8080/"
        },
        "id": "ECXTQ8Q83V4W",
        "outputId": "76e05eec-33d6-43af-835e-6087cd50f3b4"
      },
      "execution_count": 61,
      "outputs": [
        {
          "output_type": "stream",
          "name": "stdout",
          "text": [
            "tensor([[1, 2, 3],\n",
            "        [4, 5, 6]])\n"
          ]
        }
      ]
    },
    {
      "cell_type": "markdown",
      "source": [
        "**28. How do you create a tensor that starts at a given value and ends at a specified value?**"
      ],
      "metadata": {
        "id": "fW9DbjS_lQZw"
      }
    },
    {
      "cell_type": "code",
      "source": [
        "# Using torch.arange()\n",
        "tensor_arange = torch.arange(5, 10, 1)\n",
        "print(tensor_arange)"
      ],
      "metadata": {
        "colab": {
          "base_uri": "https://localhost:8080/"
        },
        "id": "luYs2-ze3gDH",
        "outputId": "f136a950-1d4b-429c-a612-600b915f842f"
      },
      "execution_count": 62,
      "outputs": [
        {
          "output_type": "stream",
          "name": "stdout",
          "text": [
            "tensor([5, 6, 7, 8, 9])\n"
          ]
        }
      ]
    },
    {
      "cell_type": "code",
      "source": [
        "# Using torch.linspace()\n",
        "tensor_linspace = torch.linspace(5, 10, steps=5)\n",
        "print(tensor_linspace)"
      ],
      "metadata": {
        "colab": {
          "base_uri": "https://localhost:8080/"
        },
        "id": "8h0w-1cX3gFu",
        "outputId": "59ba272a-1dcb-4719-852d-c8d971b3f941"
      },
      "execution_count": 63,
      "outputs": [
        {
          "output_type": "stream",
          "name": "stdout",
          "text": [
            "tensor([ 5.0000,  6.2500,  7.5000,  8.7500, 10.0000])\n"
          ]
        }
      ]
    },
    {
      "cell_type": "markdown",
      "source": [
        "**29. How can you add a new dimension to a tensor?**"
      ],
      "metadata": {
        "id": "5dfXW7SOlWtQ"
      }
    },
    {
      "cell_type": "code",
      "source": [
        "# Using torch.unsqueeze()\n",
        "# Create a 1D tensor\n",
        "tensor_1d = torch.tensor([1, 2, 3, 4, 5])\n",
        "print(\"Original tensor:\", tensor_1d)\n",
        "print(\"Shape:\", tensor_1d.shape)\n",
        "\n",
        "# Add a new dimension at axis 0\n",
        "tensor_2d = torch.unsqueeze(tensor_1d, dim=0)\n",
        "print(\"After unsqueeze (axis 0):\", tensor_2d)\n",
        "print(\"Shape:\", tensor_2d.shape)\n",
        "\n",
        "# Add a new dimension at axis 1\n",
        "tensor_2d_2 = torch.unsqueeze(tensor_1d, dim=1)\n",
        "print(\"After unsqueeze (axis 1):\", tensor_2d_2)\n",
        "print(\"Shape:\", tensor_2d_2.shape)"
      ],
      "metadata": {
        "colab": {
          "base_uri": "https://localhost:8080/"
        },
        "id": "niym8kOe37gL",
        "outputId": "70a18c33-5e54-4ea9-8631-0979f7d1b5dc"
      },
      "execution_count": 64,
      "outputs": [
        {
          "output_type": "stream",
          "name": "stdout",
          "text": [
            "Original tensor: tensor([1, 2, 3, 4, 5])\n",
            "Shape: torch.Size([5])\n",
            "After unsqueeze (axis 0): tensor([[1, 2, 3, 4, 5]])\n",
            "Shape: torch.Size([1, 5])\n",
            "After unsqueeze (axis 1): tensor([[1],\n",
            "        [2],\n",
            "        [3],\n",
            "        [4],\n",
            "        [5]])\n",
            "Shape: torch.Size([5, 1])\n"
          ]
        }
      ]
    },
    {
      "cell_type": "code",
      "source": [
        "# Using None Indexing\n",
        "# Add a new dimension at axis 0 using None indexing\n",
        "tensor_2d_none = tensor_1d[None, :]\n",
        "print(\"After None indexing (axis 0):\", tensor_2d_none)\n",
        "print(\"Shape:\", tensor_2d_none.shape)\n",
        "\n",
        "# Add a new dimension at axis 1 using None indexing\n",
        "tensor_2d_none_2 = tensor_1d[:, None]\n",
        "print(\"After None indexing (axis 1):\", tensor_2d_none_2)\n",
        "print(\"Shape:\", tensor_2d_none_2.shape)"
      ],
      "metadata": {
        "colab": {
          "base_uri": "https://localhost:8080/"
        },
        "id": "VJxXOhfg38Eu",
        "outputId": "a74a5db2-2ac6-41a4-ffbc-6c592308653e"
      },
      "execution_count": 65,
      "outputs": [
        {
          "output_type": "stream",
          "name": "stdout",
          "text": [
            "After None indexing (axis 0): tensor([[1, 2, 3, 4, 5]])\n",
            "Shape: torch.Size([1, 5])\n",
            "After None indexing (axis 1): tensor([[1],\n",
            "        [2],\n",
            "        [3],\n",
            "        [4],\n",
            "        [5]])\n",
            "Shape: torch.Size([5, 1])\n"
          ]
        }
      ]
    },
    {
      "cell_type": "code",
      "source": [
        "# Using torch.reshape()\n",
        "# Reshape to add a new dimension\n",
        "tensor_reshaped = tensor_1d.reshape(1, -1)  # Adds a new dimension\n",
        "print(\"After reshape (1, -1):\", tensor_reshaped)\n",
        "print(\"Shape:\", tensor_reshaped.shape)"
      ],
      "metadata": {
        "colab": {
          "base_uri": "https://localhost:8080/"
        },
        "id": "PHoUOv_E38Hp",
        "outputId": "1246d89c-a2e2-43b2-eddb-61ae911ba860"
      },
      "execution_count": 66,
      "outputs": [
        {
          "output_type": "stream",
          "name": "stdout",
          "text": [
            "After reshape (1, -1): tensor([[1, 2, 3, 4, 5]])\n",
            "Shape: torch.Size([1, 5])\n"
          ]
        }
      ]
    },
    {
      "cell_type": "markdown",
      "source": [
        "**30. What is broadcasting in PyTorch, and how does it work?**"
      ],
      "metadata": {
        "id": "d-ZNeK7Jlbhi"
      }
    },
    {
      "cell_type": "code",
      "source": [
        "# Simple Broadcasting\n",
        "A = torch.tensor([[1], [2], [3]])\n",
        "B = torch.tensor([[10, 20, 30, 40]])\n",
        "result = A + B\n",
        "print(result)"
      ],
      "metadata": {
        "colab": {
          "base_uri": "https://localhost:8080/"
        },
        "id": "DCm4Vno657la",
        "outputId": "396502ad-7942-4682-f8c8-b3920d23d555"
      },
      "execution_count": 67,
      "outputs": [
        {
          "output_type": "stream",
          "name": "stdout",
          "text": [
            "tensor([[11, 21, 31, 41],\n",
            "        [12, 22, 32, 42],\n",
            "        [13, 23, 33, 43]])\n"
          ]
        }
      ]
    },
    {
      "cell_type": "code",
      "source": [
        "# Broadcasting with Different Dimensions\n",
        "C = torch.tensor([1, 2])\n",
        "result_2 = A + C  # C is treated as (1, 2) and then broadcast to (3, 2)\n",
        "print(result_2)"
      ],
      "metadata": {
        "colab": {
          "base_uri": "https://localhost:8080/"
        },
        "id": "2B7lH_Kw57vG",
        "outputId": "529693ef-27a5-4684-ecb2-addff6c2454c"
      },
      "execution_count": 68,
      "outputs": [
        {
          "output_type": "stream",
          "name": "stdout",
          "text": [
            "tensor([[2, 3],\n",
            "        [3, 4],\n",
            "        [4, 5]])\n"
          ]
        }
      ]
    },
    {
      "cell_type": "markdown",
      "source": [
        "**31. How do you perform matrix multiplication on two tensors?**"
      ],
      "metadata": {
        "id": "lmlgAoD6lgda"
      }
    },
    {
      "cell_type": "markdown",
      "source": [
        "- Use torch.matmul(A, B) or A @ B for matrix multiplication of 2D tensors (or higher-dimensional tensors).\n",
        "- Use torch.mm(A, B) specifically for 2D tensor multiplication."
      ],
      "metadata": {
        "id": "HINlDYVr7ZLz"
      }
    },
    {
      "cell_type": "code",
      "source": [
        "# Using torch.matmul()\n",
        "A = torch.tensor([[1, 2],\n",
        "                  [3, 4]])\n",
        "B = torch.tensor([[5, 6],\n",
        "                  [7, 8]])\n",
        "result = torch.matmul(A, B)\n",
        "print(\"Result of A @ B using torch.matmul():\\n\", result)"
      ],
      "metadata": {
        "colab": {
          "base_uri": "https://localhost:8080/"
        },
        "id": "6yYSkZsk6Xvg",
        "outputId": "d51a4c62-aa23-4dab-d67c-13ea2b753f27"
      },
      "execution_count": 69,
      "outputs": [
        {
          "output_type": "stream",
          "name": "stdout",
          "text": [
            "Result of A @ B using torch.matmul():\n",
            " tensor([[19, 22],\n",
            "        [43, 50]])\n"
          ]
        }
      ]
    },
    {
      "cell_type": "code",
      "source": [
        "# Using the @ Operator\n",
        "result_operator = A @ B\n",
        "print(\"Result of A @ B using @ operator:\\n\", result_operator)"
      ],
      "metadata": {
        "colab": {
          "base_uri": "https://localhost:8080/"
        },
        "id": "BrxNN6e66kqo",
        "outputId": "2a30dd6f-cb1f-4b8e-8d1b-0d1dff338797"
      },
      "execution_count": 70,
      "outputs": [
        {
          "output_type": "stream",
          "name": "stdout",
          "text": [
            "Result of A @ B using @ operator:\n",
            " tensor([[19, 22],\n",
            "        [43, 50]])\n"
          ]
        }
      ]
    },
    {
      "cell_type": "code",
      "source": [
        "# Using torch.mm()\n",
        "result_mm = torch.mm(A, B)\n",
        "print(\"Result of A @ B using torch.mm():\\n\", result_mm)"
      ],
      "metadata": {
        "colab": {
          "base_uri": "https://localhost:8080/"
        },
        "id": "TxGdI9GU6t9I",
        "outputId": "69d8feb8-6d4f-4da1-f8f8-4439759271ce"
      },
      "execution_count": 71,
      "outputs": [
        {
          "output_type": "stream",
          "name": "stdout",
          "text": [
            "Result of A @ B using torch.mm():\n",
            " tensor([[19, 22],\n",
            "        [43, 50]])\n"
          ]
        }
      ]
    },
    {
      "cell_type": "markdown",
      "source": [
        "**32. How do you calculate the dot product of two tensors?**"
      ],
      "metadata": {
        "id": "1PUVsOoyllHq"
      }
    },
    {
      "cell_type": "markdown",
      "source": [
        "- Use torch.dot(a, b) for the dot product of two 1D tensors (vectors).\n",
        "- Use torch.matmul(a, b) or the @ operator for the dot product, which works for both 1D and 2D tensors. When using 1D tensors, they yield the same result as torch.dot()."
      ],
      "metadata": {
        "id": "-Z7GnpsG7RII"
      }
    },
    {
      "cell_type": "code",
      "source": [
        "# Using torch.dot()\n",
        "a = torch.tensor([1, 2, 3])\n",
        "b = torch.tensor([4, 5, 6])\n",
        "dot_product = torch.dot(a, b)\n",
        "print(\"Dot product using torch.dot():\", dot_product)"
      ],
      "metadata": {
        "colab": {
          "base_uri": "https://localhost:8080/"
        },
        "id": "VPgAfhK767um",
        "outputId": "5a80d885-1af5-46c6-c88c-89b55934009d"
      },
      "execution_count": 72,
      "outputs": [
        {
          "output_type": "stream",
          "name": "stdout",
          "text": [
            "Dot product using torch.dot(): tensor(32)\n"
          ]
        }
      ]
    },
    {
      "cell_type": "code",
      "source": [
        "# Using torch.matmul()\n",
        "dot_product_matmul = torch.matmul(a, b)\n",
        "print(\"Dot product using torch.matmul():\", dot_product_matmul)"
      ],
      "metadata": {
        "colab": {
          "base_uri": "https://localhost:8080/"
        },
        "id": "yLKUlwDK67xn",
        "outputId": "ecdb634c-f192-4042-d6b8-33567fe64ee2"
      },
      "execution_count": 73,
      "outputs": [
        {
          "output_type": "stream",
          "name": "stdout",
          "text": [
            "Dot product using torch.matmul(): tensor(32)\n"
          ]
        }
      ]
    },
    {
      "cell_type": "code",
      "source": [
        "# Using the @ Operator\n",
        "dot_product_operator = a @ b\n",
        "print(\"Dot product using @ operator:\", dot_product_operator)"
      ],
      "metadata": {
        "colab": {
          "base_uri": "https://localhost:8080/"
        },
        "id": "TlpzzlUC678G",
        "outputId": "4e9980ab-de41-45ad-86fc-ad44eb0c4e7b"
      },
      "execution_count": 74,
      "outputs": [
        {
          "output_type": "stream",
          "name": "stdout",
          "text": [
            "Dot product using @ operator: tensor(32)\n"
          ]
        }
      ]
    },
    {
      "cell_type": "markdown",
      "source": [
        "**33. How can you find the mean, median, and standard deviation of a tensor?**"
      ],
      "metadata": {
        "id": "QTwXCu6_lrlB"
      }
    },
    {
      "cell_type": "code",
      "source": [
        "# Create a 2D tensor\n",
        "tensor_2d = torch.tensor([[1.0, 2.0, 3.0],\n",
        "                           [4.0, 5.0, 6.0]])\n",
        "\n",
        "# Calculate the mean along dimension 0 (columns)\n",
        "mean_dim0 = torch.mean(tensor_2d, dim=0)\n",
        "print(\"Mean along dimension 0:\", mean_dim0)\n",
        "\n",
        "# Calculate the median along dimension 1 (rows)\n",
        "median_dim1 = torch.median(tensor_2d, dim=1).values\n",
        "print(\"Median along dimension 1:\", median_dim1)\n",
        "\n",
        "# Calculate the standard deviation along dimension 0\n",
        "std_dim0 = torch.std(tensor_2d, dim=0)\n",
        "print(\"Standard Deviation along dimension 0:\", std_dim0)"
      ],
      "metadata": {
        "colab": {
          "base_uri": "https://localhost:8080/"
        },
        "id": "v3qsBxnZ7mer",
        "outputId": "28a838d9-1333-472c-e429-0c59d0c611f5"
      },
      "execution_count": 75,
      "outputs": [
        {
          "output_type": "stream",
          "name": "stdout",
          "text": [
            "Mean along dimension 0: tensor([2.5000, 3.5000, 4.5000])\n",
            "Median along dimension 1: tensor([2., 5.])\n",
            "Standard Deviation along dimension 0: tensor([2.1213, 2.1213, 2.1213])\n"
          ]
        }
      ]
    },
    {
      "cell_type": "markdown",
      "source": [
        "**34. How do you calculate the maximum and minimum values in a tensor?**"
      ],
      "metadata": {
        "id": "uBh0PuFVlzI2"
      }
    },
    {
      "cell_type": "code",
      "source": [
        "# Finding Overall Maximum and Minimum Values\n",
        "tensor = torch.tensor([1.0, 2.0, 3.0, 4.0, 5.0])\n",
        "\n",
        "# Calculate the maximum value\n",
        "max_value = torch.max(tensor)\n",
        "print(\"Maximum value:\", max_value)\n",
        "\n",
        "# Calculate the minimum value\n",
        "min_value = torch.min(tensor)\n",
        "print(\"Minimum value:\", min_value)"
      ],
      "metadata": {
        "colab": {
          "base_uri": "https://localhost:8080/"
        },
        "id": "wYte2AfX7v91",
        "outputId": "b6e18660-44f0-4f96-e982-69e2bdc8ad94"
      },
      "execution_count": 76,
      "outputs": [
        {
          "output_type": "stream",
          "name": "stdout",
          "text": [
            "Maximum value: tensor(5.)\n",
            "Minimum value: tensor(1.)\n"
          ]
        }
      ]
    },
    {
      "cell_type": "code",
      "source": [
        "# Finding Maximum and Minimum Along a Specific Dimension\n",
        "# Create a 2D tensor\n",
        "tensor_2d = torch.tensor([[1.0, 2.0, 3.0],\n",
        "                           [4.0, 5.0, 6.0]])\n",
        "\n",
        "# Calculate the maximum values along dimension 0 (columns)\n",
        "max_dim0 = torch.max(tensor_2d, dim=0)\n",
        "print(\"Maximum values along dimension 0:\", max_dim0.values)\n",
        "\n",
        "# Calculate the minimum values along dimension 1 (rows)\n",
        "min_dim1 = torch.min(tensor_2d, dim=1)\n",
        "print(\"Minimum values along dimension 1:\", min_dim1.values)"
      ],
      "metadata": {
        "colab": {
          "base_uri": "https://localhost:8080/"
        },
        "id": "xlTXtsco7wAz",
        "outputId": "ccc971fa-5710-4078-bc4d-3263d96716db"
      },
      "execution_count": 77,
      "outputs": [
        {
          "output_type": "stream",
          "name": "stdout",
          "text": [
            "Maximum values along dimension 0: tensor([4., 5., 6.])\n",
            "Minimum values along dimension 1: tensor([1., 4.])\n"
          ]
        }
      ]
    },
    {
      "cell_type": "markdown",
      "source": [
        "**35. How can you calculate the cumulative sum along a specified dimension of a tensor?**"
      ],
      "metadata": {
        "id": "G1PsFn6Xl5BO"
      }
    },
    {
      "cell_type": "code",
      "source": [
        "# Cumulative Sum of a 1D Tensor\n",
        "tensor_1d = torch.tensor([1.0, 2.0, 3.0, 4.0])\n",
        "cumsum_1d = torch.cumsum(tensor_1d, dim=0)\n",
        "print(\"Cumulative sum of 1D tensor:\", cumsum_1d)"
      ],
      "metadata": {
        "colab": {
          "base_uri": "https://localhost:8080/"
        },
        "id": "KI_cKn3w8Oyf",
        "outputId": "fbec1acb-77a2-48a6-c852-291ba6707a93"
      },
      "execution_count": 78,
      "outputs": [
        {
          "output_type": "stream",
          "name": "stdout",
          "text": [
            "Cumulative sum of 1D tensor: tensor([ 1.,  3.,  6., 10.])\n"
          ]
        }
      ]
    },
    {
      "cell_type": "code",
      "source": [
        "# Cumulative Sum of a 2D Tensor\n",
        "tensor_2d = torch.tensor([[1.0, 2.0, 3.0],\n",
        "                           [4.0, 5.0, 6.0]])\n",
        "\n",
        "# Calculate the cumulative sum along dimension 0 (columns)\n",
        "cumsum_dim0 = torch.cumsum(tensor_2d, dim=0)\n",
        "print(\"Cumulative sum along dimension 0:\\n\", cumsum_dim0)\n",
        "\n",
        "# Calculate the cumulative sum along dimension 1 (rows)\n",
        "cumsum_dim1 = torch.cumsum(tensor_2d, dim=1)\n",
        "print(\"Cumulative sum along dimension 1:\\n\", cumsum_dim1)"
      ],
      "metadata": {
        "colab": {
          "base_uri": "https://localhost:8080/"
        },
        "id": "T9mWdQ4j8O27",
        "outputId": "8d272cd3-8b21-48d1-ae29-ff4c1286e48f"
      },
      "execution_count": 79,
      "outputs": [
        {
          "output_type": "stream",
          "name": "stdout",
          "text": [
            "Cumulative sum along dimension 0:\n",
            " tensor([[1., 2., 3.],\n",
            "        [5., 7., 9.]])\n",
            "Cumulative sum along dimension 1:\n",
            " tensor([[ 1.,  3.,  6.],\n",
            "        [ 4.,  9., 15.]])\n"
          ]
        }
      ]
    },
    {
      "cell_type": "markdown",
      "source": [
        "**36. How do you clone a tensor in PyTorch?**"
      ],
      "metadata": {
        "id": "y9n7hB1AmAYX"
      }
    },
    {
      "cell_type": "code",
      "source": [
        "# Cloning a 1D Tensor\n",
        "original_tensor = torch.tensor([1.0, 2.0, 3.0])\n",
        "cloned_tensor = original_tensor.clone()\n",
        "cloned_tensor[0] = 10.0\n",
        "print(\"Original tensor:\", original_tensor)\n",
        "print(\"Cloned tensor:\", cloned_tensor)"
      ],
      "metadata": {
        "colab": {
          "base_uri": "https://localhost:8080/"
        },
        "id": "xnxfhp7n8gvS",
        "outputId": "66c6a26e-575f-4b8b-f365-2ee9b4324e30"
      },
      "execution_count": 80,
      "outputs": [
        {
          "output_type": "stream",
          "name": "stdout",
          "text": [
            "Original tensor: tensor([1., 2., 3.])\n",
            "Cloned tensor: tensor([10.,  2.,  3.])\n"
          ]
        }
      ]
    },
    {
      "cell_type": "code",
      "source": [
        "# Cloning a 2D Tensor\n",
        "original_tensor_2d = torch.tensor([[1.0, 2.0], [3.0, 4.0]])\n",
        "cloned_tensor_2d = original_tensor_2d.clone()\n",
        "cloned_tensor_2d[0, 0] = 10.0\n",
        "print(\"Original 2D tensor:\\n\", original_tensor_2d)\n",
        "print(\"Cloned 2D tensor:\\n\", cloned_tensor_2d)"
      ],
      "metadata": {
        "colab": {
          "base_uri": "https://localhost:8080/"
        },
        "id": "q4zoWwVC8gyZ",
        "outputId": "0c68bc8f-e3ae-4174-f58b-a8518973365b"
      },
      "execution_count": 81,
      "outputs": [
        {
          "output_type": "stream",
          "name": "stdout",
          "text": [
            "Original 2D tensor:\n",
            " tensor([[1., 2.],\n",
            "        [3., 4.]])\n",
            "Cloned 2D tensor:\n",
            " tensor([[10.,  2.],\n",
            "        [ 3.,  4.]])\n"
          ]
        }
      ]
    },
    {
      "cell_type": "markdown",
      "source": [
        "**37. How do you perform element-wise multiplication of two tensors?**"
      ],
      "metadata": {
        "id": "wZgdymw-mEbR"
      }
    },
    {
      "cell_type": "markdown",
      "source": [
        "- Use the * operator or torch.mul() function to perform element-wise multiplication of two tensors."
      ],
      "metadata": {
        "id": "q22LHSO484mo"
      }
    },
    {
      "cell_type": "code",
      "source": [
        "# Using the * Operator\n",
        "tensor_a = torch.tensor([1.0, 2.0, 3.0])\n",
        "tensor_b = torch.tensor([4.0, 5.0, 6.0])\n",
        "result = tensor_a * tensor_b\n",
        "print(\"Element-wise multiplication using * operator:\", result)"
      ],
      "metadata": {
        "colab": {
          "base_uri": "https://localhost:8080/"
        },
        "id": "RJZ7_5td86MA",
        "outputId": "a8fe6251-7a36-4ff6-c4b7-5e545474afbe"
      },
      "execution_count": 82,
      "outputs": [
        {
          "output_type": "stream",
          "name": "stdout",
          "text": [
            "Element-wise multiplication using * operator: tensor([ 4., 10., 18.])\n"
          ]
        }
      ]
    },
    {
      "cell_type": "code",
      "source": [
        "# Using the torch.mul() Function\n",
        "result_mul = torch.mul(tensor_a, tensor_b)\n",
        "print(\"Element-wise multiplication using torch.mul():\", result_mul)"
      ],
      "metadata": {
        "colab": {
          "base_uri": "https://localhost:8080/"
        },
        "id": "jrSZ4QIF86O1",
        "outputId": "49b9d039-4738-4858-f9d5-ac1e2bf32b76"
      },
      "execution_count": 83,
      "outputs": [
        {
          "output_type": "stream",
          "name": "stdout",
          "text": [
            "Element-wise multiplication using torch.mul(): tensor([ 4., 10., 18.])\n"
          ]
        }
      ]
    },
    {
      "cell_type": "code",
      "source": [
        "# Create two 2D tensors\n",
        "tensor_2d_a = torch.tensor([[1.0, 2.0], [3.0, 4.0]])\n",
        "tensor_2d_b = torch.tensor([[5.0, 6.0], [7.0, 8.0]])\n",
        "\n",
        "# Element-wise multiplication\n",
        "result_2d = tensor_2d_a * tensor_2d_b\n",
        "print(\"Element-wise multiplication of 2D tensors:\\n\", result_2d)"
      ],
      "metadata": {
        "colab": {
          "base_uri": "https://localhost:8080/"
        },
        "id": "i-IwgKYr9NAQ",
        "outputId": "faec1835-cdac-432e-acc4-9b997bf257c5"
      },
      "execution_count": 84,
      "outputs": [
        {
          "output_type": "stream",
          "name": "stdout",
          "text": [
            "Element-wise multiplication of 2D tensors:\n",
            " tensor([[ 5., 12.],\n",
            "        [21., 32.]])\n"
          ]
        }
      ]
    },
    {
      "cell_type": "markdown",
      "source": [
        "**38. How can you compare two tensors element-wise in PyTorch?**"
      ],
      "metadata": {
        "id": "gGQGhMrymM5S"
      }
    },
    {
      "cell_type": "code",
      "source": [
        "# Create two tensors\n",
        "tensor_a = torch.tensor([1.0, 2.0, 3.0])\n",
        "tensor_b = torch.tensor([2.0, 2.0, 1.0])\n",
        "\n",
        "# Element-wise equality\n",
        "equal = tensor_a == tensor_b\n",
        "print(\"Equal (tensor_a == tensor_b):\", equal)\n",
        "\n",
        "# Element-wise inequality\n",
        "not_equal = tensor_a != tensor_b\n",
        "print(\"Not equal (tensor_a != tensor_b):\", not_equal)\n",
        "\n",
        "# Less than\n",
        "less_than = tensor_a < tensor_b\n",
        "print(\"Less than (tensor_a < tensor_b):\", less_than)\n",
        "\n",
        "# Less than or equal to\n",
        "less_than_equal = tensor_a <= tensor_b\n",
        "print(\"Less than or equal to (tensor_a <= tensor_b):\", less_than_equal)\n",
        "\n",
        "# Greater than\n",
        "greater_than = tensor_a > tensor_b\n",
        "print(\"Greater than (tensor_a > tensor_b):\", greater_than)\n",
        "\n",
        "# Greater than or equal to\n",
        "greater_than_equal = tensor_a >= tensor_b\n",
        "print(\"Greater than or equal to (tensor_a >= tensor_b):\", greater_than_equal)\n"
      ],
      "metadata": {
        "colab": {
          "base_uri": "https://localhost:8080/"
        },
        "id": "Bu01s06j9Wrc",
        "outputId": "19148cf0-9b81-47d7-e893-990c3fcf5a30"
      },
      "execution_count": 85,
      "outputs": [
        {
          "output_type": "stream",
          "name": "stdout",
          "text": [
            "Equal (tensor_a == tensor_b): tensor([False,  True, False])\n",
            "Not equal (tensor_a != tensor_b): tensor([ True, False,  True])\n",
            "Less than (tensor_a < tensor_b): tensor([ True, False, False])\n",
            "Less than or equal to (tensor_a <= tensor_b): tensor([ True,  True, False])\n",
            "Greater than (tensor_a > tensor_b): tensor([False, False,  True])\n",
            "Greater than or equal to (tensor_a >= tensor_b): tensor([False,  True,  True])\n"
          ]
        }
      ]
    },
    {
      "cell_type": "markdown",
      "source": [
        "**39. What is the difference between .item() and .tolist() when working with tensors?**"
      ],
      "metadata": {
        "id": "r1L14wObmRl6"
      }
    },
    {
      "cell_type": "markdown",
      "source": [
        "- Use .item() when you need to retrieve a single value from a scalar tensor\n",
        "- Use .tolist() when you want to convert a tensor of any shape into a list."
      ],
      "metadata": {
        "id": "NPfI7JHk9g1F"
      }
    },
    {
      "cell_type": "code",
      "source": [
        "# .item()\n",
        "scalar_tensor = torch.tensor(5.0)\n",
        "value = scalar_tensor.item()\n",
        "print(\"Value from scalar tensor:\", value)  # Output: 5.0"
      ],
      "metadata": {
        "colab": {
          "base_uri": "https://localhost:8080/"
        },
        "id": "v0yEqB5v9gK2",
        "outputId": "a4aa981c-3be7-41b9-8fbe-941e4d5ff681"
      },
      "execution_count": 86,
      "outputs": [
        {
          "output_type": "stream",
          "name": "stdout",
          "text": [
            "Value from scalar tensor: 5.0\n"
          ]
        }
      ]
    },
    {
      "cell_type": "code",
      "source": [
        "# .tolist()\n",
        "tensor_1d = torch.tensor([1.0, 2.0, 3.0])\n",
        "list_1d = tensor_1d.tolist()\n",
        "print(\"List from 1D tensor:\", list_1d)  # Output: [1.0, 2.0, 3.0]\n",
        "tensor_2d = torch.tensor([[1.0, 2.0], [3.0, 4.0]])\n",
        "list_2d = tensor_2d.tolist()\n",
        "print(\"List from 2D tensor:\", list_2d)  # Output: [[1.0, 2.0], [3.0, 4.0]]"
      ],
      "metadata": {
        "colab": {
          "base_uri": "https://localhost:8080/"
        },
        "id": "iGbu01329s3F",
        "outputId": "d571fd21-b1fc-423e-b9ee-03eb32a55d92"
      },
      "execution_count": 87,
      "outputs": [
        {
          "output_type": "stream",
          "name": "stdout",
          "text": [
            "List from 1D tensor: [1.0, 2.0, 3.0]\n",
            "List from 2D tensor: [[1.0, 2.0], [3.0, 4.0]]\n"
          ]
        }
      ]
    },
    {
      "cell_type": "markdown",
      "source": [
        "**40. How do you split a tensor into multiple sub-tensors?**"
      ],
      "metadata": {
        "id": "eCAcuMlQmV1S"
      }
    },
    {
      "cell_type": "markdown",
      "source": [
        "- torch.split(): Use this when you want to specify the exact sizes of each sub-tensor or when the sizes are not uniform.\n",
        "- torch.chunk(): Use this when you want to divide a tensor into a specific number of equal parts."
      ],
      "metadata": {
        "id": "Dlm7CRzG-T37"
      }
    },
    {
      "cell_type": "code",
      "source": [
        "# Using torch.split()\n",
        "tensor = torch.tensor([[1, 2, 3], [4, 5, 6], [7, 8, 9]])\n",
        "sub_tensors = torch.split(tensor, [1, 2], dim=0)\n",
        "for i, sub_tensor in enumerate(sub_tensors):\n",
        "    print(f\"Sub-tensor {i}:\\n{sub_tensor}\")"
      ],
      "metadata": {
        "colab": {
          "base_uri": "https://localhost:8080/"
        },
        "id": "Ol7O_UVk-Bi2",
        "outputId": "4ed522c5-ad12-4206-d724-db8b316282cb"
      },
      "execution_count": 88,
      "outputs": [
        {
          "output_type": "stream",
          "name": "stdout",
          "text": [
            "Sub-tensor 0:\n",
            "tensor([[1, 2, 3]])\n",
            "Sub-tensor 1:\n",
            "tensor([[4, 5, 6],\n",
            "        [7, 8, 9]])\n"
          ]
        }
      ]
    },
    {
      "cell_type": "code",
      "source": [
        "# Using torch.chunk()\n",
        "tensor = torch.tensor([[1, 2, 3], [4, 5, 6], [7, 8, 9], [10, 11, 12]])\n",
        "chunks = torch.chunk(tensor, 3, dim=0)\n",
        "for i, chunk in enumerate(chunks):\n",
        "    print(f\"Chunk {i}:\\n{chunk}\")"
      ],
      "metadata": {
        "colab": {
          "base_uri": "https://localhost:8080/"
        },
        "id": "CeZRMzXr-Im_",
        "outputId": "4b031c11-5e71-4017-fa9a-ae63e0c47ff8"
      },
      "execution_count": 89,
      "outputs": [
        {
          "output_type": "stream",
          "name": "stdout",
          "text": [
            "Chunk 0:\n",
            "tensor([[1, 2, 3],\n",
            "        [4, 5, 6]])\n",
            "Chunk 1:\n",
            "tensor([[ 7,  8,  9],\n",
            "        [10, 11, 12]])\n"
          ]
        }
      ]
    },
    {
      "cell_type": "markdown",
      "source": [
        "**41. How can you stack multiple tensors along a new dimension?**"
      ],
      "metadata": {
        "id": "AuZcf92ymarR"
      }
    },
    {
      "cell_type": "code",
      "source": [
        "tensor1 = torch.tensor([[1, 2], [3, 4]])\n",
        "tensor2 = torch.tensor([[5, 6], [7, 8]])\n",
        "tensor3 = torch.tensor([[9, 10], [11, 12]])\n",
        "stacked_tensor = torch.stack((tensor1, tensor2, tensor3), dim=0)\n",
        "print(\"Stacked Tensor:\\n\", stacked_tensor)\n",
        "print(\"Shape of Stacked Tensor:\", stacked_tensor.shape)"
      ],
      "metadata": {
        "colab": {
          "base_uri": "https://localhost:8080/"
        },
        "id": "EzjcEWJ9-Ip1",
        "outputId": "114c8256-a718-4b85-d3af-0ef37a8d878d"
      },
      "execution_count": 90,
      "outputs": [
        {
          "output_type": "stream",
          "name": "stdout",
          "text": [
            "Stacked Tensor:\n",
            " tensor([[[ 1,  2],\n",
            "         [ 3,  4]],\n",
            "\n",
            "        [[ 5,  6],\n",
            "         [ 7,  8]],\n",
            "\n",
            "        [[ 9, 10],\n",
            "         [11, 12]]])\n",
            "Shape of Stacked Tensor: torch.Size([3, 2, 2])\n"
          ]
        }
      ]
    },
    {
      "cell_type": "code",
      "source": [
        "# Stack along dim=1\n",
        "stacked_tensor_dim1 = torch.stack((tensor1, tensor2, tensor3), dim=1)\n",
        "print(\"Stacked Tensor along dim=1:\\n\", stacked_tensor_dim1)\n",
        "print(\"Shape:\", stacked_tensor_dim1.shape)\n",
        "\n",
        "# Stack along dim=2\n",
        "stacked_tensor_dim2 = torch.stack((tensor1, tensor2, tensor3), dim=2)\n",
        "print(\"Stacked Tensor along dim=2:\\n\", stacked_tensor_dim2)\n",
        "print(\"Shape:\", stacked_tensor_dim2.shape)"
      ],
      "metadata": {
        "colab": {
          "base_uri": "https://localhost:8080/"
        },
        "id": "QsNDh91L-pZW",
        "outputId": "259e52d0-c148-499e-b8b5-bf2e8cbbc194"
      },
      "execution_count": 91,
      "outputs": [
        {
          "output_type": "stream",
          "name": "stdout",
          "text": [
            "Stacked Tensor along dim=1:\n",
            " tensor([[[ 1,  2],\n",
            "         [ 5,  6],\n",
            "         [ 9, 10]],\n",
            "\n",
            "        [[ 3,  4],\n",
            "         [ 7,  8],\n",
            "         [11, 12]]])\n",
            "Shape: torch.Size([2, 3, 2])\n",
            "Stacked Tensor along dim=2:\n",
            " tensor([[[ 1,  5,  9],\n",
            "         [ 2,  6, 10]],\n",
            "\n",
            "        [[ 3,  7, 11],\n",
            "         [ 4,  8, 12]]])\n",
            "Shape: torch.Size([2, 2, 3])\n"
          ]
        }
      ]
    },
    {
      "cell_type": "markdown",
      "source": [
        "**42. How do you perform in-place operations on a tensor, and what are the implications?**"
      ],
      "metadata": {
        "id": "l9-_1JZBme54"
      }
    },
    {
      "cell_type": "code",
      "source": [
        "# In-Place Addition\n",
        "tensor = torch.tensor([1, 2, 3])\n",
        "tensor.add_(5)  # Adds 5 to each element in-place\n",
        "print(tensor)  # Output: tensor([6, 7, 8])"
      ],
      "metadata": {
        "colab": {
          "base_uri": "https://localhost:8080/"
        },
        "id": "VuOSyPbt_AhF",
        "outputId": "23d6663c-d577-4726-92d4-4970e05cef36"
      },
      "execution_count": 92,
      "outputs": [
        {
          "output_type": "stream",
          "name": "stdout",
          "text": [
            "tensor([6, 7, 8])\n"
          ]
        }
      ]
    },
    {
      "cell_type": "code",
      "source": [
        "# In-Place Multiplication\n",
        "tensor.mul_(2)  # Multiplies each element by 2 in-place\n",
        "print(tensor)  # Output: tensor([12, 14, 16])"
      ],
      "metadata": {
        "colab": {
          "base_uri": "https://localhost:8080/"
        },
        "id": "YCAUIEqD_PXf",
        "outputId": "ac83436c-6554-48dd-b5f9-3e040f4768b5"
      },
      "execution_count": 93,
      "outputs": [
        {
          "output_type": "stream",
          "name": "stdout",
          "text": [
            "tensor([12, 14, 16])\n"
          ]
        }
      ]
    },
    {
      "cell_type": "code",
      "source": [
        "# In-Place Zeroing\n",
        "tensor.zero_()  # Sets all elements to zero in-place\n",
        "print(tensor)  # Output: tensor([0, 0, 0])"
      ],
      "metadata": {
        "colab": {
          "base_uri": "https://localhost:8080/"
        },
        "id": "nD706NTx_Pan",
        "outputId": "7ed2438a-dfbd-4d2e-c569-601b82de4d36"
      },
      "execution_count": 94,
      "outputs": [
        {
          "output_type": "stream",
          "name": "stdout",
          "text": [
            "tensor([0, 0, 0])\n"
          ]
        }
      ]
    },
    {
      "cell_type": "markdown",
      "source": [
        "**43. How do you fill a tensor with a specific value in PyTorch?**"
      ],
      "metadata": {
        "id": "0XlIhDQpmjvR"
      }
    },
    {
      "cell_type": "markdown",
      "source": [
        "- Use tensor.fill_(value) to fill an existing tensor in-place with a specific value.\n",
        "- Use torch.full(size, value) to create a new tensor of the specified size filled with a specific value."
      ],
      "metadata": {
        "id": "F9EhHDLl_lhQ"
      }
    },
    {
      "cell_type": "code",
      "source": [
        "# Using torch.fill_()\n",
        "tensor = torch.zeros(3, 4)  # A 3x4 tensor\n",
        "tensor.fill_(7)\n",
        "print(tensor)"
      ],
      "metadata": {
        "colab": {
          "base_uri": "https://localhost:8080/"
        },
        "id": "Gwp9uTMx_k0x",
        "outputId": "b3dca3fe-928f-4e71-aea3-cffeda79de51"
      },
      "execution_count": 95,
      "outputs": [
        {
          "output_type": "stream",
          "name": "stdout",
          "text": [
            "tensor([[7., 7., 7., 7.],\n",
            "        [7., 7., 7., 7.],\n",
            "        [7., 7., 7., 7.]])\n"
          ]
        }
      ]
    },
    {
      "cell_type": "code",
      "source": [
        "# Using torch.full()\n",
        "tensor = torch.full((2, 3), 5)  # A 2x3 tensor filled with 5\n",
        "print(tensor)"
      ],
      "metadata": {
        "colab": {
          "base_uri": "https://localhost:8080/"
        },
        "id": "Yl7Wsk4b_k4C",
        "outputId": "72ffc9b2-e063-4b5a-d0a5-971d4a50fe16"
      },
      "execution_count": 96,
      "outputs": [
        {
          "output_type": "stream",
          "name": "stdout",
          "text": [
            "tensor([[5, 5, 5],\n",
            "        [5, 5, 5]])\n"
          ]
        }
      ]
    },
    {
      "cell_type": "markdown",
      "source": [
        "**44. What’s the difference between .sum() and .prod() on a tensor?**"
      ],
      "metadata": {
        "id": "Gete_3mzmpGX"
      }
    },
    {
      "cell_type": "code",
      "source": [
        "# .sum()\n",
        "tensor = torch.tensor([[1, 2], [3, 4]])\n",
        "\n",
        "# Sum of all elements\n",
        "total_sum = tensor.sum()\n",
        "print(\"Total Sum:\", total_sum)  # Output: Total Sum: tensor(10)\n",
        "\n",
        "# Sum along dimension 0 (columns)\n",
        "sum_dim0 = tensor.sum(dim=0)\n",
        "print(\"Sum along dimension 0:\", sum_dim0)  # Output: Sum along dimension 0: tensor([4, 6])\n",
        "\n",
        "# Sum along dimension 1 (rows)\n",
        "sum_dim1 = tensor.sum(dim=1)\n",
        "print(\"Sum along dimension 1:\", sum_dim1)  # Output: Sum along dimension 1: tensor([3, 7])"
      ],
      "metadata": {
        "colab": {
          "base_uri": "https://localhost:8080/"
        },
        "id": "hNrnh5-9_6Es",
        "outputId": "71cc1a4f-45b2-446e-ae5f-0b36d165c72f"
      },
      "execution_count": 97,
      "outputs": [
        {
          "output_type": "stream",
          "name": "stdout",
          "text": [
            "Total Sum: tensor(10)\n",
            "Sum along dimension 0: tensor([4, 6])\n",
            "Sum along dimension 1: tensor([3, 7])\n"
          ]
        }
      ]
    },
    {
      "cell_type": "code",
      "source": [
        "# .prod()\n",
        "tensor = torch.tensor([[1, 2], [3, 4]])\n",
        "\n",
        "# Product of all elements\n",
        "total_prod = tensor.prod()\n",
        "print(\"Total Product:\", total_prod)  # Output: Total Product: tensor(24)\n",
        "\n",
        "# Product along dimension 0 (columns)\n",
        "prod_dim0 = tensor.prod(dim=0)\n",
        "print(\"Product along dimension 0:\", prod_dim0)  # Output: Product along dimension 0: tensor([3, 8])\n",
        "\n",
        "# Product along dimension 1 (rows)\n",
        "prod_dim1 = tensor.prod(dim=1)\n",
        "print(\"Product along dimension 1:\", prod_dim1)  # Output: Product along dimension 1: tensor([ 2, 12])"
      ],
      "metadata": {
        "colab": {
          "base_uri": "https://localhost:8080/"
        },
        "id": "m0MrKOKb_6H8",
        "outputId": "184b33df-d3c9-4e00-fa0a-bb3adf8e9ab2"
      },
      "execution_count": 98,
      "outputs": [
        {
          "output_type": "stream",
          "name": "stdout",
          "text": [
            "Total Product: tensor(24)\n",
            "Product along dimension 0: tensor([3, 8])\n",
            "Product along dimension 1: tensor([ 2, 12])\n"
          ]
        }
      ]
    },
    {
      "cell_type": "markdown",
      "source": [
        "**45. How do you concatenate two tensors along a specific axis?**"
      ],
      "metadata": {
        "id": "oSqVCmormtzl"
      }
    },
    {
      "cell_type": "code",
      "source": [
        "tensor1 = torch.tensor([[1, 2], [3, 4]])\n",
        "tensor2 = torch.tensor([[5, 6]])\n",
        "\n",
        "# Concatenate along dimension 0 (rows)\n",
        "result_dim0 = torch.cat((tensor1, tensor2), dim=0)\n",
        "print(\"Concatenated along dimension 0:\\n\", result_dim0)\n",
        "\n",
        "# Create two example tensors with the same number of rows\n",
        "tensor3 = torch.tensor([[7, 8]])\n",
        "tensor4 = torch.tensor([[9, 10]])\n",
        "\n",
        "# Concatenate along dimension 1 (columns)\n",
        "result_dim1 = torch.cat((tensor3, tensor4), dim=1)\n",
        "print(\"Concatenated along dimension 1:\\n\", result_dim1)"
      ],
      "metadata": {
        "colab": {
          "base_uri": "https://localhost:8080/"
        },
        "id": "j_-f_XMmAK2N",
        "outputId": "dee578fd-9003-41b4-fbd5-f41b5348de48"
      },
      "execution_count": 99,
      "outputs": [
        {
          "output_type": "stream",
          "name": "stdout",
          "text": [
            "Concatenated along dimension 0:\n",
            " tensor([[1, 2],\n",
            "        [3, 4],\n",
            "        [5, 6]])\n",
            "Concatenated along dimension 1:\n",
            " tensor([[ 7,  8,  9, 10]])\n"
          ]
        }
      ]
    },
    {
      "cell_type": "markdown",
      "source": [
        "**46. How can you reverse a tensor along a specific dimension?**"
      ],
      "metadata": {
        "id": "Kg5IhN2gm01Y"
      }
    },
    {
      "cell_type": "code",
      "source": [
        "# Create an example tensor\n",
        "tensor = torch.tensor([[1, 2, 3], [4, 5, 6]])\n",
        "\n",
        "# Reverse along dimension 0 (rows)\n",
        "reversed_dim0 = torch.flip(tensor, dims=[0])\n",
        "print(\"Reversed along dimension 0:\\n\", reversed_dim0)\n",
        "\n",
        "# Reverse along dimension 1 (columns)\n",
        "reversed_dim1 = torch.flip(tensor, dims=[1])\n",
        "print(\"Reversed along dimension 1:\\n\", reversed_dim1)\n",
        "\n",
        "# Reverse along both dimensions\n",
        "reversed_both = torch.flip(tensor, dims=[0, 1])\n",
        "print(\"Reversed along both dimensions:\\n\", reversed_both)"
      ],
      "metadata": {
        "colab": {
          "base_uri": "https://localhost:8080/"
        },
        "id": "0BTJyyMWATd7",
        "outputId": "3920c6bf-a2f7-4ca1-b43e-a6f9e9939d3e"
      },
      "execution_count": 100,
      "outputs": [
        {
          "output_type": "stream",
          "name": "stdout",
          "text": [
            "Reversed along dimension 0:\n",
            " tensor([[4, 5, 6],\n",
            "        [1, 2, 3]])\n",
            "Reversed along dimension 1:\n",
            " tensor([[3, 2, 1],\n",
            "        [6, 5, 4]])\n",
            "Reversed along both dimensions:\n",
            " tensor([[6, 5, 4],\n",
            "        [3, 2, 1]])\n"
          ]
        }
      ]
    },
    {
      "cell_type": "markdown",
      "source": [
        "**47. How do you round elements in a tensor to the nearest integer?**"
      ],
      "metadata": {
        "id": "L11LSgWLm7Q2"
      }
    },
    {
      "cell_type": "code",
      "source": [
        "tensor = torch.tensor([[1.2, 2.5, 3.7], [4.4, 5.8, 6.0]])\n",
        "rounded_tensor = torch.round(tensor)\n",
        "print(\"Original Tensor:\\n\", tensor)\n",
        "print(\"Rounded Tensor:\\n\", rounded_tensor)"
      ],
      "metadata": {
        "colab": {
          "base_uri": "https://localhost:8080/"
        },
        "id": "53-ZVAaUAevG",
        "outputId": "dc5880c1-994d-44be-e049-ed75d62d4c63"
      },
      "execution_count": 101,
      "outputs": [
        {
          "output_type": "stream",
          "name": "stdout",
          "text": [
            "Original Tensor:\n",
            " tensor([[1.2000, 2.5000, 3.7000],\n",
            "        [4.4000, 5.8000, 6.0000]])\n",
            "Rounded Tensor:\n",
            " tensor([[1., 2., 4.],\n",
            "        [4., 6., 6.]])\n"
          ]
        }
      ]
    },
    {
      "cell_type": "markdown",
      "source": [
        "**48. How can you create a tensor that’s uniformly distributed within a range?**"
      ],
      "metadata": {
        "id": "LQFYpGgAnCjx"
      }
    },
    {
      "cell_type": "code",
      "source": [
        "# Using torch.rand() and Scaling\n",
        "a = 5  # Lower bound\n",
        "b = 10  # Upper bound\n",
        "# Create a tensor with shape (3, 4) uniformly distributed within the range [5, 10]\n",
        "uniform_tensor = a + (b - a) * torch.rand(3, 4)\n",
        "print(\"Uniformly distributed tensor:\\n\", uniform_tensor)"
      ],
      "metadata": {
        "colab": {
          "base_uri": "https://localhost:8080/"
        },
        "id": "hIFECukyApki",
        "outputId": "6ca76aa7-6a4c-48f9-d915-d707e9c158ba"
      },
      "execution_count": 102,
      "outputs": [
        {
          "output_type": "stream",
          "name": "stdout",
          "text": [
            "Uniformly distributed tensor:\n",
            " tensor([[5.6659, 9.6730, 7.9679, 9.3470],\n",
            "        [7.8386, 8.7055, 7.1470, 9.4272],\n",
            "        [7.8695, 6.3329, 8.1372, 6.3482]])\n"
          ]
        }
      ]
    },
    {
      "cell_type": "code",
      "source": [
        "# Using torch.empty() and uniform_()\n",
        "a = 5  # Lower bound\n",
        "b = 10  # Upper bound\n",
        "# Create a tensor with shape (3, 4) uniformly distributed within the range [5, 10]\n",
        "uniform_tensor = torch.empty(3, 4).uniform_(a, b)\n",
        "print(\"Uniformly distributed tensor:\\n\", uniform_tensor)"
      ],
      "metadata": {
        "colab": {
          "base_uri": "https://localhost:8080/"
        },
        "id": "Lo1zrZT4Apno",
        "outputId": "eee2ca8c-3bea-4c2e-9faf-effb78576b7a"
      },
      "execution_count": 103,
      "outputs": [
        {
          "output_type": "stream",
          "name": "stdout",
          "text": [
            "Uniformly distributed tensor:\n",
            " tensor([[7.2068, 6.4846, 9.1584, 5.5266],\n",
            "        [6.3475, 6.7941, 5.9968, 7.7360],\n",
            "        [5.0308, 9.7578, 5.3763, 9.4301]])\n"
          ]
        }
      ]
    },
    {
      "cell_type": "markdown",
      "source": [
        "**49. How do you reshape a tensor to make it compatible for matrix multiplication?**"
      ],
      "metadata": {
        "id": "yezh3dVDnH8q"
      }
    },
    {
      "cell_type": "code",
      "source": [
        "# Step 1: Create a tensor A with shape (4, 2)\n",
        "A = torch.tensor([[1, 2],\n",
        "                  [3, 4],\n",
        "                  [5, 6],\n",
        "                  [7, 8]])\n",
        "\n",
        "# Print original shape of A\n",
        "print(\"Original shape of A:\", A.shape)  # Output: torch.Size([4, 2])\n",
        "\n",
        "# Step 2: Reshape A to (2, 4)\n",
        "A_reshaped = A.reshape(2, 4)\n",
        "\n",
        "# Print the reshaped tensor and its shape\n",
        "print(\"Reshaped A:\\n\", A_reshaped)\n",
        "print(\"Shape of reshaped A:\", A_reshaped.shape)  # Output: torch.Size([2, 4])\n",
        "\n",
        "# Step 3: Create a tensor B with shape (4, 3)\n",
        "B = torch.tensor([[1, 2, 3],\n",
        "                  [4, 5, 6],\n",
        "                  [7, 8, 9],\n",
        "                  [10, 11, 12]])\n",
        "\n",
        "# Print shape of B\n",
        "print(\"Shape of B:\", B.shape)  # Output: torch.Size([4, 3])\n",
        "\n",
        "# Step 4: Perform matrix multiplication\n",
        "result = torch.mm(A_reshaped, B)\n",
        "\n",
        "# Print the result\n",
        "print(\"Matrix multiplication result:\\n\", result)\n",
        "print(\"Shape of the result:\", result.shape)  # Output: torch.Size([2, 3])"
      ],
      "metadata": {
        "colab": {
          "base_uri": "https://localhost:8080/"
        },
        "id": "ul8aP9mTBImo",
        "outputId": "25200cda-ad1c-48b8-855b-41b72d89565d"
      },
      "execution_count": 104,
      "outputs": [
        {
          "output_type": "stream",
          "name": "stdout",
          "text": [
            "Original shape of A: torch.Size([4, 2])\n",
            "Reshaped A:\n",
            " tensor([[1, 2, 3, 4],\n",
            "        [5, 6, 7, 8]])\n",
            "Shape of reshaped A: torch.Size([2, 4])\n",
            "Shape of B: torch.Size([4, 3])\n",
            "Matrix multiplication result:\n",
            " tensor([[ 70,  80,  90],\n",
            "        [158, 184, 210]])\n",
            "Shape of the result: torch.Size([2, 3])\n"
          ]
        }
      ]
    },
    {
      "cell_type": "markdown",
      "source": [
        "**50. How do you find the indices of the maximum values in a tensor along a specific axis?**"
      ],
      "metadata": {
        "id": "0x3nYZ9unM9B"
      }
    },
    {
      "cell_type": "markdown",
      "source": [
        "- Use torch.max(tensor, dim=0) to get the maximum values and their indices along the columns.\n",
        "- Use torch.max(tensor, dim=1) to get the maximum values and their indices along the rows."
      ],
      "metadata": {
        "id": "6s-JhE8tBqIu"
      }
    },
    {
      "cell_type": "code",
      "source": [
        "# Create a 2D tensor\n",
        "tensor = torch.tensor([[1, 3, 2],\n",
        "                       [4, 1, 5],\n",
        "                       [7, 6, 0]])\n",
        "\n",
        "# Print the original tensor\n",
        "print(\"Original Tensor:\\n\", tensor)\n",
        "\n",
        "# Find the indices of the maximum values along dimension 0 (columns)\n",
        "max_values_col, max_indices_col = torch.max(tensor, dim=0)\n",
        "\n",
        "# Print results for columns\n",
        "print(\"Max values along columns:\", max_values_col)       # Output: max values for each column\n",
        "print(\"Indices of max values along columns:\", max_indices_col)  # Indices of max values for each column\n",
        "\n",
        "# Find the indices of the maximum values along dimension 1 (rows)\n",
        "max_values_row, max_indices_row = torch.max(tensor, dim=1)\n",
        "\n",
        "# Print results for rows\n",
        "print(\"Max values along rows:\", max_values_row)         # Output: max values for each row\n",
        "print(\"Indices of max values along rows:\", max_indices_row)   # Indices of max values for each row"
      ],
      "metadata": {
        "colab": {
          "base_uri": "https://localhost:8080/"
        },
        "id": "DoggcYlJBpgL",
        "outputId": "d27c08af-41e0-47de-bb3f-80e89a117138"
      },
      "execution_count": 105,
      "outputs": [
        {
          "output_type": "stream",
          "name": "stdout",
          "text": [
            "Original Tensor:\n",
            " tensor([[1, 3, 2],\n",
            "        [4, 1, 5],\n",
            "        [7, 6, 0]])\n",
            "Max values along columns: tensor([7, 6, 5])\n",
            "Indices of max values along columns: tensor([2, 2, 1])\n",
            "Max values along rows: tensor([3, 5, 7])\n",
            "Indices of max values along rows: tensor([1, 2, 0])\n"
          ]
        }
      ]
    },
    {
      "cell_type": "markdown",
      "source": [
        "**51. What is the tile function in PyTorch, and how is it used?**"
      ],
      "metadata": {
        "id": "GAl_7AlwqP_Y"
      }
    },
    {
      "cell_type": "code",
      "source": [
        "# Create a 1D tensor\n",
        "tensor_1d = torch.tensor([1, 2, 3])\n",
        "print(\"Original 1D tensor:\", tensor_1d)\n",
        "\n",
        "# Tile the 1D tensor: repeat it 3 times\n",
        "tiled_1d = torch.tile(tensor_1d, (3,))\n",
        "print(\"Tiled 1D tensor:\", tiled_1d)\n",
        "\n",
        "# Create a 2D tensor\n",
        "tensor_2d = torch.tensor([[1, 2],\n",
        "                          [3, 4]])\n",
        "print(\"Original 2D tensor:\\n\", tensor_2d)\n",
        "\n",
        "# Tile the 2D tensor: repeat it 2 times along the first dimension and 3 times along the second dimension\n",
        "tiled_2d = torch.tile(tensor_2d, (2, 3))\n",
        "print(\"Tiled 2D tensor:\\n\", tiled_2d)"
      ],
      "metadata": {
        "id": "4IKzv2VpjXab",
        "colab": {
          "base_uri": "https://localhost:8080/"
        },
        "outputId": "c4955001-48ac-4fac-926a-6797bc4e85f5"
      },
      "execution_count": 106,
      "outputs": [
        {
          "output_type": "stream",
          "name": "stdout",
          "text": [
            "Original 1D tensor: tensor([1, 2, 3])\n",
            "Tiled 1D tensor: tensor([1, 2, 3, 1, 2, 3, 1, 2, 3])\n",
            "Original 2D tensor:\n",
            " tensor([[1, 2],\n",
            "        [3, 4]])\n",
            "Tiled 2D tensor:\n",
            " tensor([[1, 2, 1, 2, 1, 2],\n",
            "        [3, 4, 3, 4, 3, 4],\n",
            "        [1, 2, 1, 2, 1, 2],\n",
            "        [3, 4, 3, 4, 3, 4]])\n"
          ]
        }
      ]
    }
  ]
}